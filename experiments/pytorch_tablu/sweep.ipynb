{
 "cells": [
  {
   "cell_type": "code",
   "execution_count": 1,
   "metadata": {},
   "outputs": [],
   "source": [
    "\n",
    "import time\n",
    "import torch\n",
    "from sklearn.datasets import make_classification\n",
    "from sklearn.model_selection import train_test_split\n",
    "from sklearn.metrics import accuracy_score, f1_score\n",
    "import random\n",
    "# import numpy as np\n",
    "import pandas as pd\n",
    "# import wandb\n",
    "from rich import print\n",
    "\n",
    "from typing import Callable\n",
    "from datetime import datetime\n",
    "\n",
    "from time import time\n",
    "from pytorch_tabular import model_sweep\n",
    "import warnings\n",
    "\n",
    "# from pytorch_tabular import TabularModel\n",
    "# from pytorch_tabular.models import CategoryEmbeddingModelConfig\n",
    "from pytorch_tabular.config import (\n",
    "    DataConfig,\n",
    "    OptimizerConfig,\n",
    "    TrainerConfig,\n",
    "    ExperimentConfig,\n",
    ")\n",
    "from pytorch_tabular.models.common.heads import LinearHeadConfig\n",
    "\n",
    "\n",
    "from pytorch_tabular.utils import (\n",
    "    make_mixed_dataset,\n",
    "    print_metrics,\n",
    "    load_covertype_dataset,\n",
    ")\n",
    "from pytorch_tabular.utils import get_balanced_sampler, get_class_weighted_cross_entropy\n",
    "\n",
    "# import os\n",
    "%load_ext autoreload\n",
    "%autoreload 2"
   ]
  },
  {
   "cell_type": "code",
   "execution_count": 2,
   "metadata": {},
   "outputs": [
    {
     "data": {
      "text/html": [
       "<pre style=\"white-space:pre;overflow-x:auto;line-height:normal;font-family:Menlo,'DejaVu Sans Mono',consolas,'Courier New',monospace\">gpu\n",
       "</pre>\n"
      ],
      "text/plain": [
       "gpu\n"
      ]
     },
     "metadata": {},
     "output_type": "display_data"
    },
    {
     "data": {
      "text/html": [
       "<pre style=\"white-space:pre;overflow-x:auto;line-height:normal;font-family:Menlo,'DejaVu Sans Mono',consolas,'Courier New',monospace\"><span style=\"font-weight: bold\">[</span><span style=\"color: #008000; text-decoration-color: #008000\">'activation'</span>, <span style=\"color: #008000; text-decoration-color: #008000\">'ind_recommended'</span><span style=\"font-weight: bold\">]</span>\n",
       "</pre>\n"
      ],
      "text/plain": [
       "\u001b[1m[\u001b[0m\u001b[32m'activation'\u001b[0m, \u001b[32m'ind_recommended'\u001b[0m\u001b[1m]\u001b[0m\n"
      ]
     },
     "metadata": {},
     "output_type": "display_data"
    },
    {
     "data": {
      "text/html": [
       "<pre style=\"white-space:pre;overflow-x:auto;line-height:normal;font-family:Menlo,'DejaVu Sans Mono',consolas,'Courier New',monospace\"><span style=\"color: #808000; text-decoration-color: #808000\">target_cols</span>=<span style=\"font-weight: bold\">[</span><span style=\"color: #008000; text-decoration-color: #008000\">'activation'</span>, <span style=\"color: #008000; text-decoration-color: #008000\">'ind_recommended'</span><span style=\"font-weight: bold\">]</span>, <span style=\"color: #808000; text-decoration-color: #808000\">cat_col_names</span>=<span style=\"font-weight: bold\">[</span><span style=\"color: #008000; text-decoration-color: #008000\">'merchant_profile_01'</span><span style=\"font-weight: bold\">]</span>, \n",
       "<span style=\"color: #808000; text-decoration-color: #808000\">num_col_names</span>=<span style=\"font-weight: bold\">[</span><span style=\"color: #008000; text-decoration-color: #008000\">'customer_digital_activity_02'</span>, <span style=\"color: #008000; text-decoration-color: #008000\">'customer_profile_01'</span>, <span style=\"color: #008000; text-decoration-color: #008000\">'customer_profile_02'</span>, <span style=\"color: #008000; text-decoration-color: #008000\">'customer_profile_03'</span>,\n",
       "<span style=\"color: #008000; text-decoration-color: #008000\">'customer_profile_04'</span>, <span style=\"color: #008000; text-decoration-color: #008000\">'customer_spend_06'</span>, <span style=\"color: #008000; text-decoration-color: #008000\">'customer_spend_07'</span>, <span style=\"color: #008000; text-decoration-color: #008000\">'distance_05'</span><span style=\"font-weight: bold\">]</span>\n",
       "</pre>\n"
      ],
      "text/plain": [
       "\u001b[33mtarget_cols\u001b[0m=\u001b[1m[\u001b[0m\u001b[32m'activation'\u001b[0m, \u001b[32m'ind_recommended'\u001b[0m\u001b[1m]\u001b[0m, \u001b[33mcat_col_names\u001b[0m=\u001b[1m[\u001b[0m\u001b[32m'merchant_profile_01'\u001b[0m\u001b[1m]\u001b[0m, \n",
       "\u001b[33mnum_col_names\u001b[0m=\u001b[1m[\u001b[0m\u001b[32m'customer_digital_activity_02'\u001b[0m, \u001b[32m'customer_profile_01'\u001b[0m, \u001b[32m'customer_profile_02'\u001b[0m, \u001b[32m'customer_profile_03'\u001b[0m,\n",
       "\u001b[32m'customer_profile_04'\u001b[0m, \u001b[32m'customer_spend_06'\u001b[0m, \u001b[32m'customer_spend_07'\u001b[0m, \u001b[32m'distance_05'\u001b[0m\u001b[1m]\u001b[0m\n"
      ]
     },
     "metadata": {},
     "output_type": "display_data"
    },
    {
     "data": {
      "text/html": [
       "<pre style=\"white-space:pre;overflow-x:auto;line-height:normal;font-family:Menlo,'DejaVu Sans Mono',consolas,'Courier New',monospace\">train.<span style=\"color: #808000; text-decoration-color: #808000\">shape</span>=<span style=\"font-weight: bold\">(</span><span style=\"color: #008080; text-decoration-color: #008080; font-weight: bold\">366899</span>, <span style=\"color: #008080; text-decoration-color: #008080; font-weight: bold\">11</span><span style=\"font-weight: bold\">)</span>, val.<span style=\"color: #808000; text-decoration-color: #808000\">shape</span>=<span style=\"font-weight: bold\">(</span><span style=\"color: #008080; text-decoration-color: #008080; font-weight: bold\">91725</span>, <span style=\"color: #008080; text-decoration-color: #008080; font-weight: bold\">11</span><span style=\"font-weight: bold\">)</span>, test.<span style=\"color: #808000; text-decoration-color: #808000\">shape</span>=<span style=\"font-weight: bold\">(</span><span style=\"color: #008080; text-decoration-color: #008080; font-weight: bold\">152875</span>, <span style=\"color: #008080; text-decoration-color: #008080; font-weight: bold\">11</span><span style=\"font-weight: bold\">)</span>\n",
       "</pre>\n"
      ],
      "text/plain": [
       "train.\u001b[33mshape\u001b[0m=\u001b[1m(\u001b[0m\u001b[1;36m366899\u001b[0m, \u001b[1;36m11\u001b[0m\u001b[1m)\u001b[0m, val.\u001b[33mshape\u001b[0m=\u001b[1m(\u001b[0m\u001b[1;36m91725\u001b[0m, \u001b[1;36m11\u001b[0m\u001b[1m)\u001b[0m, test.\u001b[33mshape\u001b[0m=\u001b[1m(\u001b[0m\u001b[1;36m152875\u001b[0m, \u001b[1;36m11\u001b[0m\u001b[1m)\u001b[0m\n"
      ]
     },
     "metadata": {},
     "output_type": "display_data"
    }
   ],
   "source": [
    "'''\n",
    "Author: Zhen Liu lzhen.dev@outlook.com\n",
    "CreateDate: Do not edit\n",
    "LastEditors: Zhen Liu lzhen.dev@outlook.com\n",
    "LastEditTime: 2024-03-07\n",
    "Description: \n",
    "\n",
    "Copyright (c) 2024 by HernandoR lzhen.dev@outlook.com, All Rights Reserved. \n",
    "'''\n",
    "\n",
    "Feature_Explain = pd.read_excel(\"data/Amex_ori/Amex Campus.xlsx\")\n",
    "Feature_target_cols = Feature_Explain[\"Feature Name\"][\n",
    "    Feature_Explain[\"Extended description\"] == \"Target\"\n",
    "].to_list()\n",
    "Feature_cat_col_names = Feature_Explain[\"Feature Name\"][\n",
    "    Feature_Explain[\"Feature Type\"] == \"categorical\"\n",
    "].to_list()\n",
    "Feature_num_col_names = Feature_Explain[\"Feature Name\"][\n",
    "    Feature_Explain[\"Variable Type\"] == \"numeric\"\n",
    "].to_list()\n",
    "\n",
    "DEVICE = (\n",
    "    \"mps\"\n",
    "    if torch.backends.mps.is_available()\n",
    "    else (\"gpu\" if torch.cuda.is_available() else \"cpu\")\n",
    ")\n",
    "print(DEVICE)\n",
    "\n",
    "# %%\n",
    "data = pd.read_parquet(\"data/train.parquet\")\n",
    "\n",
    "cols = data.columns.to_list()\n",
    "target_cols = [col for col in cols if col in Feature_target_cols]\n",
    "if len(target_cols) == 0:\n",
    "    print(\"No target column found\")\n",
    "    exit()\n",
    "# elif len(target_cols) > 1:\n",
    "#     target_col=target_cols[1]\n",
    "cat_col_names = [col for col in cols if col in Feature_cat_col_names]\n",
    "num_col_names = [col for col in cols if col in Feature_num_col_names]\n",
    "\n",
    "print(f\"{target_cols}\")\n",
    "# target_col=cols.unite(Feature_target_cols)\n",
    "\n",
    "# target_col = 'activation'\n",
    "\n",
    "# %%\n",
    "\n",
    "needed_cols = cat_col_names + num_col_names + target_cols\n",
    "data = data[needed_cols]\n",
    "\n",
    "data.head()\n",
    "print(\n",
    "    f\"target_cols={target_cols}, cat_col_names={cat_col_names}, num_col_names={num_col_names}\"\n",
    ")\n",
    "\n",
    "# %%\n",
    "# Data: DF, cat_col_names, num_col_names\n",
    "\n",
    "# 1. activate(0.57%) X recom(12.7%) -> 0~3\n",
    "\n",
    "_,data=train_test_split(data,test_size=0.05)\n",
    "\n",
    "train, test = train_test_split(data)\n",
    "train, val = train_test_split(train,test_size=0.2)\n",
    "\n",
    "print(f\"train.shape={train.shape}, val.shape={val.shape}, test.shape={test.shape}\")\n"
   ]
  },
  {
   "cell_type": "code",
   "execution_count": 3,
   "metadata": {},
   "outputs": [],
   "source": [
    "\n",
    "target_col = target_cols[0]\n",
    "\n",
    "data_config = DataConfig(\n",
    "    target=[target_col],\n",
    "    # target should always be a list. Multi-targets are only supported for regression. Multi-Task Classification is not implemented\n",
    "    continuous_cols=num_col_names,\n",
    "    categorical_cols=cat_col_names,\n",
    "    num_workers=0,\n",
    ")\n",
    "trainer_config = TrainerConfig(\n",
    "    auto_lr_find=True,  # Runs the LRFinder to automatically derive a learning rate\n",
    "    batch_size=1024*2,\n",
    "    max_epochs=100,\n",
    "    early_stopping=None,\n",
    "    # early_stopping=\"valid_loss\",  # Monitor valid_loss for early stopping\n",
    "    # early_stopping_mode=\"min\",  # Set the mode as min because for val_loss, lower is better\n",
    "    # early_stopping_patience=5,  # No. of epochs of degradation training will wait before terminating\n",
    "    checkpoints=\"valid_loss\",  # Save best checkpoint monitoring val_loss\n",
    "    checkpoints_path=\"checkpoints\",  # Save the checkpoint in the experiment directory\n",
    "    # checkpoints_save_top_k=5,\n",
    "    # progress_bar=\"simple\",\n",
    "    load_best=True,  # After training, load the best checkpoint\n",
    "    # accelerator=DEVICE,\n",
    "    trainer_kwargs=dict(enable_model_summary=False),  # Turning off model summary\n",
    ")\n",
    "optimizer_config = OptimizerConfig()\n",
    "\n",
    "head_config = LinearHeadConfig(\n",
    "    layers=\"\",  # No additional layer in head, just a mapping layer to output_dim\n",
    "    dropout=0.1,\n",
    "    initialization=\"kaiming\",\n",
    ").__dict__  # Convert to dict to pass to the model config (OmegaConf doesn't accept objects)\n",
    "\n"
   ]
  },
  {
   "cell_type": "code",
   "execution_count": 4,
   "metadata": {},
   "outputs": [],
   "source": [
    "\n",
    "def save_sweep_results(sweep_df, save_dir, best_model):\n",
    "    sweep_df.drop(columns=[\"params\", \"time_taken\", \"epochs\"])\n",
    "    sweep_df.to_excel(f\"{save_dir}/sweep_result.xlsx\", index=False)\n",
    "    best_model.save_model(f\"{save_dir}/best_model.ckpt\")\n",
    "\n",
    "\n",
    "def visualize_sweep_results(sweep_df):\n",
    "    sweep_df.drop(columns=[\"params\", \"time_taken\", \"epochs\"]).style.background_gradient(\n",
    "        subset=[\"test_accuracy\", \"test_f1_score\"], cmap=\"RdYlGn\"\n",
    "    ).background_gradient(subset=[\"time_taken_per_epoch\", \"test_loss\"], cmap=\"RdYlGn_r\")\n",
    "\n"
   ]
  },
  {
   "cell_type": "code",
   "execution_count": 5,
   "metadata": {},
   "outputs": [
    {
     "data": {
      "text/html": [
       "<pre style=\"white-space:pre;overflow-x:auto;line-height:normal;font-family:Menlo,'DejaVu Sans Mono',consolas,'Courier New',monospace\"><span style=\"font-weight: bold\">[</span><span style=\"color: #008000; text-decoration-color: #008000\">'lite'</span>, <span style=\"color: #008000; text-decoration-color: #008000\">'standard'</span>, <span style=\"color: #008000; text-decoration-color: #008000\">'full'</span>, <span style=\"color: #008000; text-decoration-color: #008000\">'high_memory'</span><span style=\"font-weight: bold\">]</span>\n",
       "</pre>\n"
      ],
      "text/plain": [
       "\u001b[1m[\u001b[0m\u001b[32m'lite'\u001b[0m, \u001b[32m'standard'\u001b[0m, \u001b[32m'full'\u001b[0m, \u001b[32m'high_memory'\u001b[0m\u001b[1m]\u001b[0m\n"
      ]
     },
     "metadata": {},
     "output_type": "display_data"
    }
   ],
   "source": [
    "from pytorch_tabular import MODEL_SWEEP_PRESETS\n",
    "print(list(MODEL_SWEEP_PRESETS.keys()))"
   ]
  },
  {
   "cell_type": "code",
   "execution_count": 8,
   "metadata": {},
   "outputs": [
    {
     "data": {
      "application/vnd.jupyter.widget-view+json": {
       "model_id": "f3ab561a16fa4591af3ac17a59c05cab",
       "version_major": 2,
       "version_minor": 0
      },
      "text/plain": [
       "Output()"
      ]
     },
     "metadata": {},
     "output_type": "display_data"
    },
    {
     "data": {
      "text/html": [
       "<pre style=\"white-space:pre;overflow-x:auto;line-height:normal;font-family:Menlo,'DejaVu Sans Mono',consolas,'Courier New',monospace\"><span style=\"color: #008080; text-decoration-color: #008080; font-weight: bold\">2024</span>-<span style=\"color: #008080; text-decoration-color: #008080; font-weight: bold\">03</span>-<span style=\"color: #008080; text-decoration-color: #008080; font-weight: bold\">07</span> <span style=\"color: #00ff00; text-decoration-color: #00ff00; font-weight: bold\">00:23:39</span>,<span style=\"color: #008080; text-decoration-color: #008080; font-weight: bold\">557</span> - <span style=\"font-weight: bold\">{</span>pytorch_tabular:<span style=\"color: #008080; text-decoration-color: #008080; font-weight: bold\">329</span><span style=\"font-weight: bold\">}</span> - INFO - Training CategoryEmbeddingModel                           \n",
       "</pre>\n"
      ],
      "text/plain": [
       "\u001b[1;36m2024\u001b[0m-\u001b[1;36m03\u001b[0m-\u001b[1;36m07\u001b[0m \u001b[1;92m00:23:39\u001b[0m,\u001b[1;36m557\u001b[0m - \u001b[1m{\u001b[0mpytorch_tabular:\u001b[1;36m329\u001b[0m\u001b[1m}\u001b[0m - INFO - Training CategoryEmbeddingModel                           \n"
      ]
     },
     "metadata": {},
     "output_type": "display_data"
    },
    {
     "data": {
      "application/vnd.jupyter.widget-view+json": {
       "model_id": "2d102fd0939a475fa1cd2a23bc586ef7",
       "version_major": 2,
       "version_minor": 0
      },
      "text/plain": [
       "Finding best initial lr:   0%|          | 0/100 [00:00<?, ?it/s]"
      ]
     },
     "metadata": {},
     "output_type": "display_data"
    },
    {
     "data": {
      "text/html": [
       "<pre style=\"white-space:pre;overflow-x:auto;line-height:normal;font-family:Menlo,'DejaVu Sans Mono',consolas,'Courier New',monospace\"><span style=\"color: #008080; text-decoration-color: #008080; font-weight: bold\">2024</span>-<span style=\"color: #008080; text-decoration-color: #008080; font-weight: bold\">03</span>-<span style=\"color: #008080; text-decoration-color: #008080; font-weight: bold\">07</span> <span style=\"color: #00ff00; text-decoration-color: #00ff00; font-weight: bold\">00:26:42</span>,<span style=\"color: #008080; text-decoration-color: #008080; font-weight: bold\">780</span> - <span style=\"font-weight: bold\">{</span>pytorch_tabular:<span style=\"color: #008080; text-decoration-color: #008080; font-weight: bold\">368</span><span style=\"font-weight: bold\">}</span> - INFO - Finished Training CategoryEmbeddingModel                  \n",
       "</pre>\n"
      ],
      "text/plain": [
       "\u001b[1;36m2024\u001b[0m-\u001b[1;36m03\u001b[0m-\u001b[1;36m07\u001b[0m \u001b[1;92m00:26:42\u001b[0m,\u001b[1;36m780\u001b[0m - \u001b[1m{\u001b[0mpytorch_tabular:\u001b[1;36m368\u001b[0m\u001b[1m}\u001b[0m - INFO - Finished Training CategoryEmbeddingModel                  \n"
      ]
     },
     "metadata": {},
     "output_type": "display_data"
    },
    {
     "data": {
      "text/html": [
       "<pre style=\"white-space:pre;overflow-x:auto;line-height:normal;font-family:Menlo,'DejaVu Sans Mono',consolas,'Courier New',monospace\"><span style=\"color: #008080; text-decoration-color: #008080; font-weight: bold\">2024</span>-<span style=\"color: #008080; text-decoration-color: #008080; font-weight: bold\">03</span>-<span style=\"color: #008080; text-decoration-color: #008080; font-weight: bold\">07</span> <span style=\"color: #00ff00; text-decoration-color: #00ff00; font-weight: bold\">00:26:42</span>,<span style=\"color: #008080; text-decoration-color: #008080; font-weight: bold\">781</span> - <span style=\"font-weight: bold\">{</span>pytorch_tabular:<span style=\"color: #008080; text-decoration-color: #008080; font-weight: bold\">369</span><span style=\"font-weight: bold\">}</span> - INFO - Results: model: CategoryEmbeddingModel, # Params: <span style=\"color: #008080; text-decoration-color: #008080; font-weight: bold\">54</span> T,   \n",
       "epochs: <span style=\"color: #008080; text-decoration-color: #008080; font-weight: bold\">25</span>, test_loss: <span style=\"color: #008080; text-decoration-color: #008080; font-weight: bold\">0.028647763654589653</span>, test_accuracy: <span style=\"color: #008080; text-decoration-color: #008080; font-weight: bold\">0.9947342872619629</span>, test_f1_score: <span style=\"color: #008080; text-decoration-color: #008080; font-weight: bold\">0.5020282864570618</span>, \n",
       "time_taken: <span style=\"color: #008080; text-decoration-color: #008080; font-weight: bold\">183.24714851379395</span>, time_taken_per_epoch: <span style=\"color: #008080; text-decoration-color: #008080; font-weight: bold\">7.329885940551758</span>                                            \n",
       "</pre>\n"
      ],
      "text/plain": [
       "\u001b[1;36m2024\u001b[0m-\u001b[1;36m03\u001b[0m-\u001b[1;36m07\u001b[0m \u001b[1;92m00:26:42\u001b[0m,\u001b[1;36m781\u001b[0m - \u001b[1m{\u001b[0mpytorch_tabular:\u001b[1;36m369\u001b[0m\u001b[1m}\u001b[0m - INFO - Results: model: CategoryEmbeddingModel, # Params: \u001b[1;36m54\u001b[0m T,   \n",
       "epochs: \u001b[1;36m25\u001b[0m, test_loss: \u001b[1;36m0.028647763654589653\u001b[0m, test_accuracy: \u001b[1;36m0.9947342872619629\u001b[0m, test_f1_score: \u001b[1;36m0.5020282864570618\u001b[0m, \n",
       "time_taken: \u001b[1;36m183.24714851379395\u001b[0m, time_taken_per_epoch: \u001b[1;36m7.329885940551758\u001b[0m                                            \n"
      ]
     },
     "metadata": {},
     "output_type": "display_data"
    },
    {
     "data": {
      "text/html": [
       "<pre style=\"white-space:pre;overflow-x:auto;line-height:normal;font-family:Menlo,'DejaVu Sans Mono',consolas,'Courier New',monospace\"><span style=\"color: #008080; text-decoration-color: #008080; font-weight: bold\">2024</span>-<span style=\"color: #008080; text-decoration-color: #008080; font-weight: bold\">03</span>-<span style=\"color: #008080; text-decoration-color: #008080; font-weight: bold\">07</span> <span style=\"color: #00ff00; text-decoration-color: #00ff00; font-weight: bold\">00:26:42</span>,<span style=\"color: #008080; text-decoration-color: #008080; font-weight: bold\">835</span> - <span style=\"font-weight: bold\">{</span>pytorch_tabular:<span style=\"color: #008080; text-decoration-color: #008080; font-weight: bold\">329</span><span style=\"font-weight: bold\">}</span> - INFO - Training CategoryEmbeddingModel                           \n",
       "</pre>\n"
      ],
      "text/plain": [
       "\u001b[1;36m2024\u001b[0m-\u001b[1;36m03\u001b[0m-\u001b[1;36m07\u001b[0m \u001b[1;92m00:26:42\u001b[0m,\u001b[1;36m835\u001b[0m - \u001b[1m{\u001b[0mpytorch_tabular:\u001b[1;36m329\u001b[0m\u001b[1m}\u001b[0m - INFO - Training CategoryEmbeddingModel                           \n"
      ]
     },
     "metadata": {},
     "output_type": "display_data"
    },
    {
     "data": {
      "application/vnd.jupyter.widget-view+json": {
       "model_id": "64670ad44983459ba738e3e980889204",
       "version_major": 2,
       "version_minor": 0
      },
      "text/plain": [
       "Finding best initial lr:   0%|          | 0/100 [00:00<?, ?it/s]"
      ]
     },
     "metadata": {},
     "output_type": "display_data"
    },
    {
     "data": {
      "text/html": [
       "<pre style=\"white-space:pre;overflow-x:auto;line-height:normal;font-family:Menlo,'DejaVu Sans Mono',consolas,'Courier New',monospace\"><span style=\"color: #008080; text-decoration-color: #008080; font-weight: bold\">2024</span>-<span style=\"color: #008080; text-decoration-color: #008080; font-weight: bold\">03</span>-<span style=\"color: #008080; text-decoration-color: #008080; font-weight: bold\">07</span> <span style=\"color: #00ff00; text-decoration-color: #00ff00; font-weight: bold\">00:29:45</span>,<span style=\"color: #008080; text-decoration-color: #008080; font-weight: bold\">349</span> - <span style=\"font-weight: bold\">{</span>pytorch_tabular:<span style=\"color: #008080; text-decoration-color: #008080; font-weight: bold\">368</span><span style=\"font-weight: bold\">}</span> - INFO - Finished Training CategoryEmbeddingModel                  \n",
       "</pre>\n"
      ],
      "text/plain": [
       "\u001b[1;36m2024\u001b[0m-\u001b[1;36m03\u001b[0m-\u001b[1;36m07\u001b[0m \u001b[1;92m00:29:45\u001b[0m,\u001b[1;36m349\u001b[0m - \u001b[1m{\u001b[0mpytorch_tabular:\u001b[1;36m368\u001b[0m\u001b[1m}\u001b[0m - INFO - Finished Training CategoryEmbeddingModel                  \n"
      ]
     },
     "metadata": {},
     "output_type": "display_data"
    },
    {
     "data": {
      "text/html": [
       "<pre style=\"white-space:pre;overflow-x:auto;line-height:normal;font-family:Menlo,'DejaVu Sans Mono',consolas,'Courier New',monospace\"><span style=\"color: #008080; text-decoration-color: #008080; font-weight: bold\">2024</span>-<span style=\"color: #008080; text-decoration-color: #008080; font-weight: bold\">03</span>-<span style=\"color: #008080; text-decoration-color: #008080; font-weight: bold\">07</span> <span style=\"color: #00ff00; text-decoration-color: #00ff00; font-weight: bold\">00:29:45</span>,<span style=\"color: #008080; text-decoration-color: #008080; font-weight: bold\">350</span> - <span style=\"font-weight: bold\">{</span>pytorch_tabular:<span style=\"color: #008080; text-decoration-color: #008080; font-weight: bold\">369</span><span style=\"font-weight: bold\">}</span> - INFO - Results: model: CategoryEmbeddingModel, # Params: <span style=\"color: #008080; text-decoration-color: #008080; font-weight: bold\">99</span> T,   \n",
       "epochs: <span style=\"color: #008080; text-decoration-color: #008080; font-weight: bold\">25</span>, test_loss: <span style=\"color: #008080; text-decoration-color: #008080; font-weight: bold\">0.028674177825450897</span>, test_accuracy: <span style=\"color: #008080; text-decoration-color: #008080; font-weight: bold\">0.9947342872619629</span>, test_f1_score: <span style=\"color: #008080; text-decoration-color: #008080; font-weight: bold\">0.5020282864570618</span>, \n",
       "time_taken: <span style=\"color: #008080; text-decoration-color: #008080; font-weight: bold\">182.54514074325562</span>, time_taken_per_epoch: <span style=\"color: #008080; text-decoration-color: #008080; font-weight: bold\">7.301805629730224</span>                                            \n",
       "</pre>\n"
      ],
      "text/plain": [
       "\u001b[1;36m2024\u001b[0m-\u001b[1;36m03\u001b[0m-\u001b[1;36m07\u001b[0m \u001b[1;92m00:29:45\u001b[0m,\u001b[1;36m350\u001b[0m - \u001b[1m{\u001b[0mpytorch_tabular:\u001b[1;36m369\u001b[0m\u001b[1m}\u001b[0m - INFO - Results: model: CategoryEmbeddingModel, # Params: \u001b[1;36m99\u001b[0m T,   \n",
       "epochs: \u001b[1;36m25\u001b[0m, test_loss: \u001b[1;36m0.028674177825450897\u001b[0m, test_accuracy: \u001b[1;36m0.9947342872619629\u001b[0m, test_f1_score: \u001b[1;36m0.5020282864570618\u001b[0m, \n",
       "time_taken: \u001b[1;36m182.54514074325562\u001b[0m, time_taken_per_epoch: \u001b[1;36m7.301805629730224\u001b[0m                                            \n"
      ]
     },
     "metadata": {},
     "output_type": "display_data"
    },
    {
     "data": {
      "text/html": [
       "<pre style=\"white-space:pre;overflow-x:auto;line-height:normal;font-family:Menlo,'DejaVu Sans Mono',consolas,'Courier New',monospace\"><span style=\"color: #008080; text-decoration-color: #008080; font-weight: bold\">2024</span>-<span style=\"color: #008080; text-decoration-color: #008080; font-weight: bold\">03</span>-<span style=\"color: #008080; text-decoration-color: #008080; font-weight: bold\">07</span> <span style=\"color: #00ff00; text-decoration-color: #00ff00; font-weight: bold\">00:29:45</span>,<span style=\"color: #008080; text-decoration-color: #008080; font-weight: bold\">373</span> - <span style=\"font-weight: bold\">{</span>pytorch_tabular:<span style=\"color: #008080; text-decoration-color: #008080; font-weight: bold\">329</span><span style=\"font-weight: bold\">}</span> - INFO - Training GANDALFModel                                     \n",
       "</pre>\n"
      ],
      "text/plain": [
       "\u001b[1;36m2024\u001b[0m-\u001b[1;36m03\u001b[0m-\u001b[1;36m07\u001b[0m \u001b[1;92m00:29:45\u001b[0m,\u001b[1;36m373\u001b[0m - \u001b[1m{\u001b[0mpytorch_tabular:\u001b[1;36m329\u001b[0m\u001b[1m}\u001b[0m - INFO - Training GANDALFModel                                     \n"
      ]
     },
     "metadata": {},
     "output_type": "display_data"
    },
    {
     "data": {
      "application/vnd.jupyter.widget-view+json": {
       "model_id": "bb5adba11cb546c68df28ba76b4649f0",
       "version_major": 2,
       "version_minor": 0
      },
      "text/plain": [
       "Finding best initial lr:   0%|          | 0/100 [00:00<?, ?it/s]"
      ]
     },
     "metadata": {},
     "output_type": "display_data"
    },
    {
     "data": {
      "text/html": [
       "<pre style=\"white-space:pre;overflow-x:auto;line-height:normal;font-family:Menlo,'DejaVu Sans Mono',consolas,'Courier New',monospace\"><span style=\"color: #008080; text-decoration-color: #008080; font-weight: bold\">2024</span>-<span style=\"color: #008080; text-decoration-color: #008080; font-weight: bold\">03</span>-<span style=\"color: #008080; text-decoration-color: #008080; font-weight: bold\">07</span> <span style=\"color: #00ff00; text-decoration-color: #00ff00; font-weight: bold\">00:33:40</span>,<span style=\"color: #008080; text-decoration-color: #008080; font-weight: bold\">217</span> - <span style=\"font-weight: bold\">{</span>pytorch_tabular:<span style=\"color: #008080; text-decoration-color: #008080; font-weight: bold\">368</span><span style=\"font-weight: bold\">}</span> - INFO - Finished Training GANDALFModel                            \n",
       "</pre>\n"
      ],
      "text/plain": [
       "\u001b[1;36m2024\u001b[0m-\u001b[1;36m03\u001b[0m-\u001b[1;36m07\u001b[0m \u001b[1;92m00:33:40\u001b[0m,\u001b[1;36m217\u001b[0m - \u001b[1m{\u001b[0mpytorch_tabular:\u001b[1;36m368\u001b[0m\u001b[1m}\u001b[0m - INFO - Finished Training GANDALFModel                            \n"
      ]
     },
     "metadata": {},
     "output_type": "display_data"
    },
    {
     "data": {
      "text/html": [
       "<pre style=\"white-space:pre;overflow-x:auto;line-height:normal;font-family:Menlo,'DejaVu Sans Mono',consolas,'Courier New',monospace\"><span style=\"color: #008080; text-decoration-color: #008080; font-weight: bold\">2024</span>-<span style=\"color: #008080; text-decoration-color: #008080; font-weight: bold\">03</span>-<span style=\"color: #008080; text-decoration-color: #008080; font-weight: bold\">07</span> <span style=\"color: #00ff00; text-decoration-color: #00ff00; font-weight: bold\">00:33:40</span>,<span style=\"color: #008080; text-decoration-color: #008080; font-weight: bold\">218</span> - <span style=\"font-weight: bold\">{</span>pytorch_tabular:<span style=\"color: #008080; text-decoration-color: #008080; font-weight: bold\">369</span><span style=\"font-weight: bold\">}</span> - INFO - Results: model: GANDALFModel, # Params: <span style=\"color: #008080; text-decoration-color: #008080; font-weight: bold\">70</span> T, epochs: <span style=\"color: #008080; text-decoration-color: #008080; font-weight: bold\">25</span>, \n",
       "test_loss: <span style=\"color: #008080; text-decoration-color: #008080; font-weight: bold\">0.028740249574184418</span>, test_accuracy: <span style=\"color: #008080; text-decoration-color: #008080; font-weight: bold\">0.9947277307510376</span>, test_f1_score: <span style=\"color: #008080; text-decoration-color: #008080; font-weight: bold\">0.5020266771316528</span>, time_taken: \n",
       "<span style=\"color: #008080; text-decoration-color: #008080; font-weight: bold\">234.86644959449768</span>, time_taken_per_epoch: <span style=\"color: #008080; text-decoration-color: #008080; font-weight: bold\">9.394657983779908</span>                                                        \n",
       "</pre>\n"
      ],
      "text/plain": [
       "\u001b[1;36m2024\u001b[0m-\u001b[1;36m03\u001b[0m-\u001b[1;36m07\u001b[0m \u001b[1;92m00:33:40\u001b[0m,\u001b[1;36m218\u001b[0m - \u001b[1m{\u001b[0mpytorch_tabular:\u001b[1;36m369\u001b[0m\u001b[1m}\u001b[0m - INFO - Results: model: GANDALFModel, # Params: \u001b[1;36m70\u001b[0m T, epochs: \u001b[1;36m25\u001b[0m, \n",
       "test_loss: \u001b[1;36m0.028740249574184418\u001b[0m, test_accuracy: \u001b[1;36m0.9947277307510376\u001b[0m, test_f1_score: \u001b[1;36m0.5020266771316528\u001b[0m, time_taken: \n",
       "\u001b[1;36m234.86644959449768\u001b[0m, time_taken_per_epoch: \u001b[1;36m9.394657983779908\u001b[0m                                                        \n"
      ]
     },
     "metadata": {},
     "output_type": "display_data"
    },
    {
     "data": {
      "text/html": [
       "<pre style=\"white-space:pre;overflow-x:auto;line-height:normal;font-family:Menlo,'DejaVu Sans Mono',consolas,'Courier New',monospace\"><span style=\"color: #008080; text-decoration-color: #008080; font-weight: bold\">2024</span>-<span style=\"color: #008080; text-decoration-color: #008080; font-weight: bold\">03</span>-<span style=\"color: #008080; text-decoration-color: #008080; font-weight: bold\">07</span> <span style=\"color: #00ff00; text-decoration-color: #00ff00; font-weight: bold\">00:33:40</span>,<span style=\"color: #008080; text-decoration-color: #008080; font-weight: bold\">242</span> - <span style=\"font-weight: bold\">{</span>pytorch_tabular:<span style=\"color: #008080; text-decoration-color: #008080; font-weight: bold\">329</span><span style=\"font-weight: bold\">}</span> - INFO - Training GANDALFModel                                     \n",
       "</pre>\n"
      ],
      "text/plain": [
       "\u001b[1;36m2024\u001b[0m-\u001b[1;36m03\u001b[0m-\u001b[1;36m07\u001b[0m \u001b[1;92m00:33:40\u001b[0m,\u001b[1;36m242\u001b[0m - \u001b[1m{\u001b[0mpytorch_tabular:\u001b[1;36m329\u001b[0m\u001b[1m}\u001b[0m - INFO - Training GANDALFModel                                     \n"
      ]
     },
     "metadata": {},
     "output_type": "display_data"
    },
    {
     "data": {
      "application/vnd.jupyter.widget-view+json": {
       "model_id": "dd45b20aeaa1403c948fb23e8d505d94",
       "version_major": 2,
       "version_minor": 0
      },
      "text/plain": [
       "Finding best initial lr:   0%|          | 0/100 [00:00<?, ?it/s]"
      ]
     },
     "metadata": {},
     "output_type": "display_data"
    },
    {
     "data": {
      "text/html": [
       "<pre style=\"white-space:pre;overflow-x:auto;line-height:normal;font-family:Menlo,'DejaVu Sans Mono',consolas,'Courier New',monospace\"><span style=\"color: #008080; text-decoration-color: #008080; font-weight: bold\">2024</span>-<span style=\"color: #008080; text-decoration-color: #008080; font-weight: bold\">03</span>-<span style=\"color: #008080; text-decoration-color: #008080; font-weight: bold\">07</span> <span style=\"color: #00ff00; text-decoration-color: #00ff00; font-weight: bold\">00:39:05</span>,<span style=\"color: #008080; text-decoration-color: #008080; font-weight: bold\">349</span> - <span style=\"font-weight: bold\">{</span>pytorch_tabular:<span style=\"color: #008080; text-decoration-color: #008080; font-weight: bold\">368</span><span style=\"font-weight: bold\">}</span> - INFO - Finished Training GANDALFModel                            \n",
       "</pre>\n"
      ],
      "text/plain": [
       "\u001b[1;36m2024\u001b[0m-\u001b[1;36m03\u001b[0m-\u001b[1;36m07\u001b[0m \u001b[1;92m00:39:05\u001b[0m,\u001b[1;36m349\u001b[0m - \u001b[1m{\u001b[0mpytorch_tabular:\u001b[1;36m368\u001b[0m\u001b[1m}\u001b[0m - INFO - Finished Training GANDALFModel                            \n"
      ]
     },
     "metadata": {},
     "output_type": "display_data"
    },
    {
     "data": {
      "text/html": [
       "<pre style=\"white-space:pre;overflow-x:auto;line-height:normal;font-family:Menlo,'DejaVu Sans Mono',consolas,'Courier New',monospace\"><span style=\"color: #008080; text-decoration-color: #008080; font-weight: bold\">2024</span>-<span style=\"color: #008080; text-decoration-color: #008080; font-weight: bold\">03</span>-<span style=\"color: #008080; text-decoration-color: #008080; font-weight: bold\">07</span> <span style=\"color: #00ff00; text-decoration-color: #00ff00; font-weight: bold\">00:39:05</span>,<span style=\"color: #008080; text-decoration-color: #008080; font-weight: bold\">350</span> - <span style=\"font-weight: bold\">{</span>pytorch_tabular:<span style=\"color: #008080; text-decoration-color: #008080; font-weight: bold\">369</span><span style=\"font-weight: bold\">}</span> - INFO - Results: model: GANDALFModel, # Params: <span style=\"color: #008080; text-decoration-color: #008080; font-weight: bold\">171</span> T, epochs: <span style=\"color: #008080; text-decoration-color: #008080; font-weight: bold\">25</span>,\n",
       "test_loss: <span style=\"color: #008080; text-decoration-color: #008080; font-weight: bold\">0.02869928628206253</span>, test_accuracy: <span style=\"color: #008080; text-decoration-color: #008080; font-weight: bold\">0.9947342872619629</span>, test_f1_score: <span style=\"color: #008080; text-decoration-color: #008080; font-weight: bold\">0.5020282864570618</span>, time_taken:  \n",
       "<span style=\"color: #008080; text-decoration-color: #008080; font-weight: bold\">325.1297845840454</span>, time_taken_per_epoch: <span style=\"color: #008080; text-decoration-color: #008080; font-weight: bold\">13.005191383361817</span>                                                        \n",
       "</pre>\n"
      ],
      "text/plain": [
       "\u001b[1;36m2024\u001b[0m-\u001b[1;36m03\u001b[0m-\u001b[1;36m07\u001b[0m \u001b[1;92m00:39:05\u001b[0m,\u001b[1;36m350\u001b[0m - \u001b[1m{\u001b[0mpytorch_tabular:\u001b[1;36m369\u001b[0m\u001b[1m}\u001b[0m - INFO - Results: model: GANDALFModel, # Params: \u001b[1;36m171\u001b[0m T, epochs: \u001b[1;36m25\u001b[0m,\n",
       "test_loss: \u001b[1;36m0.02869928628206253\u001b[0m, test_accuracy: \u001b[1;36m0.9947342872619629\u001b[0m, test_f1_score: \u001b[1;36m0.5020282864570618\u001b[0m, time_taken:  \n",
       "\u001b[1;36m325.1297845840454\u001b[0m, time_taken_per_epoch: \u001b[1;36m13.005191383361817\u001b[0m                                                        \n"
      ]
     },
     "metadata": {},
     "output_type": "display_data"
    },
    {
     "data": {
      "text/html": [
       "<pre style=\"white-space:pre;overflow-x:auto;line-height:normal;font-family:Menlo,'DejaVu Sans Mono',consolas,'Courier New',monospace\"><span style=\"color: #008080; text-decoration-color: #008080; font-weight: bold\">2024</span>-<span style=\"color: #008080; text-decoration-color: #008080; font-weight: bold\">03</span>-<span style=\"color: #008080; text-decoration-color: #008080; font-weight: bold\">07</span> <span style=\"color: #00ff00; text-decoration-color: #00ff00; font-weight: bold\">00:39:05</span>,<span style=\"color: #008080; text-decoration-color: #008080; font-weight: bold\">378</span> - <span style=\"font-weight: bold\">{</span>pytorch_tabular:<span style=\"color: #008080; text-decoration-color: #008080; font-weight: bold\">329</span><span style=\"font-weight: bold\">}</span> - INFO - Training TabNetModel                                      \n",
       "</pre>\n"
      ],
      "text/plain": [
       "\u001b[1;36m2024\u001b[0m-\u001b[1;36m03\u001b[0m-\u001b[1;36m07\u001b[0m \u001b[1;92m00:39:05\u001b[0m,\u001b[1;36m378\u001b[0m - \u001b[1m{\u001b[0mpytorch_tabular:\u001b[1;36m329\u001b[0m\u001b[1m}\u001b[0m - INFO - Training TabNetModel                                      \n"
      ]
     },
     "metadata": {},
     "output_type": "display_data"
    },
    {
     "data": {
      "application/vnd.jupyter.widget-view+json": {
       "model_id": "11a77a70109b457888783fbdb002f1f4",
       "version_major": 2,
       "version_minor": 0
      },
      "text/plain": [
       "Finding best initial lr:   0%|          | 0/100 [00:00<?, ?it/s]"
      ]
     },
     "metadata": {},
     "output_type": "display_data"
    },
    {
     "data": {
      "text/html": [
       "<pre style=\"white-space:pre;overflow-x:auto;line-height:normal;font-family:Menlo,'DejaVu Sans Mono',consolas,'Courier New',monospace\"><span style=\"color: #008080; text-decoration-color: #008080; font-weight: bold\">2024</span>-<span style=\"color: #008080; text-decoration-color: #008080; font-weight: bold\">03</span>-<span style=\"color: #008080; text-decoration-color: #008080; font-weight: bold\">07</span> <span style=\"color: #00ff00; text-decoration-color: #00ff00; font-weight: bold\">00:44:57</span>,<span style=\"color: #008080; text-decoration-color: #008080; font-weight: bold\">521</span> - <span style=\"font-weight: bold\">{</span>pytorch_tabular:<span style=\"color: #008080; text-decoration-color: #008080; font-weight: bold\">368</span><span style=\"font-weight: bold\">}</span> - INFO - Finished Training TabNetModel                             \n",
       "</pre>\n"
      ],
      "text/plain": [
       "\u001b[1;36m2024\u001b[0m-\u001b[1;36m03\u001b[0m-\u001b[1;36m07\u001b[0m \u001b[1;92m00:44:57\u001b[0m,\u001b[1;36m521\u001b[0m - \u001b[1m{\u001b[0mpytorch_tabular:\u001b[1;36m368\u001b[0m\u001b[1m}\u001b[0m - INFO - Finished Training TabNetModel                             \n"
      ]
     },
     "metadata": {},
     "output_type": "display_data"
    },
    {
     "data": {
      "text/html": [
       "<pre style=\"white-space:pre;overflow-x:auto;line-height:normal;font-family:Menlo,'DejaVu Sans Mono',consolas,'Courier New',monospace\"><span style=\"color: #008080; text-decoration-color: #008080; font-weight: bold\">2024</span>-<span style=\"color: #008080; text-decoration-color: #008080; font-weight: bold\">03</span>-<span style=\"color: #008080; text-decoration-color: #008080; font-weight: bold\">07</span> <span style=\"color: #00ff00; text-decoration-color: #00ff00; font-weight: bold\">00:44:57</span>,<span style=\"color: #008080; text-decoration-color: #008080; font-weight: bold\">522</span> - <span style=\"font-weight: bold\">{</span>pytorch_tabular:<span style=\"color: #008080; text-decoration-color: #008080; font-weight: bold\">369</span><span style=\"font-weight: bold\">}</span> - INFO - Results: model: TabNetModel, # Params: <span style=\"color: #008080; text-decoration-color: #008080; font-weight: bold\">53</span> T, epochs: <span style=\"color: #008080; text-decoration-color: #008080; font-weight: bold\">25</span>,  \n",
       "test_loss: <span style=\"color: #008080; text-decoration-color: #008080; font-weight: bold\">0.02879129908978939</span>, test_accuracy: <span style=\"color: #008080; text-decoration-color: #008080; font-weight: bold\">0.9947342872619629</span>, test_f1_score: <span style=\"color: #008080; text-decoration-color: #008080; font-weight: bold\">0.5020282864570618</span>, time_taken:  \n",
       "<span style=\"color: #008080; text-decoration-color: #008080; font-weight: bold\">352.1700539588928</span>, time_taken_per_epoch: <span style=\"color: #008080; text-decoration-color: #008080; font-weight: bold\">14.086802158355713</span>                                                        \n",
       "</pre>\n"
      ],
      "text/plain": [
       "\u001b[1;36m2024\u001b[0m-\u001b[1;36m03\u001b[0m-\u001b[1;36m07\u001b[0m \u001b[1;92m00:44:57\u001b[0m,\u001b[1;36m522\u001b[0m - \u001b[1m{\u001b[0mpytorch_tabular:\u001b[1;36m369\u001b[0m\u001b[1m}\u001b[0m - INFO - Results: model: TabNetModel, # Params: \u001b[1;36m53\u001b[0m T, epochs: \u001b[1;36m25\u001b[0m,  \n",
       "test_loss: \u001b[1;36m0.02879129908978939\u001b[0m, test_accuracy: \u001b[1;36m0.9947342872619629\u001b[0m, test_f1_score: \u001b[1;36m0.5020282864570618\u001b[0m, time_taken:  \n",
       "\u001b[1;36m352.1700539588928\u001b[0m, time_taken_per_epoch: \u001b[1;36m14.086802158355713\u001b[0m                                                        \n"
      ]
     },
     "metadata": {},
     "output_type": "display_data"
    },
    {
     "data": {
      "text/html": [
       "<pre style=\"white-space:pre;overflow-x:auto;line-height:normal;font-family:Menlo,'DejaVu Sans Mono',consolas,'Courier New',monospace\"><span style=\"color: #008080; text-decoration-color: #008080; font-weight: bold\">2024</span>-<span style=\"color: #008080; text-decoration-color: #008080; font-weight: bold\">03</span>-<span style=\"color: #008080; text-decoration-color: #008080; font-weight: bold\">07</span> <span style=\"color: #00ff00; text-decoration-color: #00ff00; font-weight: bold\">00:44:57</span>,<span style=\"color: #008080; text-decoration-color: #008080; font-weight: bold\">546</span> - <span style=\"font-weight: bold\">{</span>pytorch_tabular:<span style=\"color: #008080; text-decoration-color: #008080; font-weight: bold\">329</span><span style=\"font-weight: bold\">}</span> - INFO - Training TabNetModel                                      \n",
       "</pre>\n"
      ],
      "text/plain": [
       "\u001b[1;36m2024\u001b[0m-\u001b[1;36m03\u001b[0m-\u001b[1;36m07\u001b[0m \u001b[1;92m00:44:57\u001b[0m,\u001b[1;36m546\u001b[0m - \u001b[1m{\u001b[0mpytorch_tabular:\u001b[1;36m329\u001b[0m\u001b[1m}\u001b[0m - INFO - Training TabNetModel                                      \n"
      ]
     },
     "metadata": {},
     "output_type": "display_data"
    },
    {
     "data": {
      "application/vnd.jupyter.widget-view+json": {
       "model_id": "33c070ae217f40c3b8781987c02b8423",
       "version_major": 2,
       "version_minor": 0
      },
      "text/plain": [
       "Finding best initial lr:   0%|          | 0/100 [00:00<?, ?it/s]"
      ]
     },
     "metadata": {},
     "output_type": "display_data"
    },
    {
     "data": {
      "text/html": [
       "<pre style=\"white-space:pre;overflow-x:auto;line-height:normal;font-family:Menlo,'DejaVu Sans Mono',consolas,'Courier New',monospace\"><span style=\"color: #008080; text-decoration-color: #008080; font-weight: bold\">2024</span>-<span style=\"color: #008080; text-decoration-color: #008080; font-weight: bold\">03</span>-<span style=\"color: #008080; text-decoration-color: #008080; font-weight: bold\">07</span> <span style=\"color: #00ff00; text-decoration-color: #00ff00; font-weight: bold\">00:54:27</span>,<span style=\"color: #008080; text-decoration-color: #008080; font-weight: bold\">873</span> - <span style=\"font-weight: bold\">{</span>pytorch_tabular:<span style=\"color: #008080; text-decoration-color: #008080; font-weight: bold\">368</span><span style=\"font-weight: bold\">}</span> - INFO - Finished Training TabNetModel                             \n",
       "</pre>\n"
      ],
      "text/plain": [
       "\u001b[1;36m2024\u001b[0m-\u001b[1;36m03\u001b[0m-\u001b[1;36m07\u001b[0m \u001b[1;92m00:54:27\u001b[0m,\u001b[1;36m873\u001b[0m - \u001b[1m{\u001b[0mpytorch_tabular:\u001b[1;36m368\u001b[0m\u001b[1m}\u001b[0m - INFO - Finished Training TabNetModel                             \n"
      ]
     },
     "metadata": {},
     "output_type": "display_data"
    },
    {
     "data": {
      "text/html": [
       "<pre style=\"white-space:pre;overflow-x:auto;line-height:normal;font-family:Menlo,'DejaVu Sans Mono',consolas,'Courier New',monospace\"><span style=\"color: #008080; text-decoration-color: #008080; font-weight: bold\">2024</span>-<span style=\"color: #008080; text-decoration-color: #008080; font-weight: bold\">03</span>-<span style=\"color: #008080; text-decoration-color: #008080; font-weight: bold\">07</span> <span style=\"color: #00ff00; text-decoration-color: #00ff00; font-weight: bold\">00:54:27</span>,<span style=\"color: #008080; text-decoration-color: #008080; font-weight: bold\">874</span> - <span style=\"font-weight: bold\">{</span>pytorch_tabular:<span style=\"color: #008080; text-decoration-color: #008080; font-weight: bold\">369</span><span style=\"font-weight: bold\">}</span> - INFO - Results: model: TabNetModel, # Params: <span style=\"color: #008080; text-decoration-color: #008080; font-weight: bold\">132</span> T, epochs: <span style=\"color: #008080; text-decoration-color: #008080; font-weight: bold\">25</span>, \n",
       "test_loss: <span style=\"color: #008080; text-decoration-color: #008080; font-weight: bold\">0.02884361334145069</span>, test_accuracy: <span style=\"color: #008080; text-decoration-color: #008080; font-weight: bold\">0.9947342872619629</span>, test_f1_score: <span style=\"color: #008080; text-decoration-color: #008080; font-weight: bold\">0.5020282864570618</span>, time_taken:  \n",
       "<span style=\"color: #008080; text-decoration-color: #008080; font-weight: bold\">570.3490977287292</span>, time_taken_per_epoch: <span style=\"color: #008080; text-decoration-color: #008080; font-weight: bold\">22.81396390914917</span>                                                         \n",
       "</pre>\n"
      ],
      "text/plain": [
       "\u001b[1;36m2024\u001b[0m-\u001b[1;36m03\u001b[0m-\u001b[1;36m07\u001b[0m \u001b[1;92m00:54:27\u001b[0m,\u001b[1;36m874\u001b[0m - \u001b[1m{\u001b[0mpytorch_tabular:\u001b[1;36m369\u001b[0m\u001b[1m}\u001b[0m - INFO - Results: model: TabNetModel, # Params: \u001b[1;36m132\u001b[0m T, epochs: \u001b[1;36m25\u001b[0m, \n",
       "test_loss: \u001b[1;36m0.02884361334145069\u001b[0m, test_accuracy: \u001b[1;36m0.9947342872619629\u001b[0m, test_f1_score: \u001b[1;36m0.5020282864570618\u001b[0m, time_taken:  \n",
       "\u001b[1;36m570.3490977287292\u001b[0m, time_taken_per_epoch: \u001b[1;36m22.81396390914917\u001b[0m                                                         \n"
      ]
     },
     "metadata": {},
     "output_type": "display_data"
    },
    {
     "data": {
      "text/html": [
       "<pre style=\"white-space:pre;overflow-x:auto;line-height:normal;font-family:Menlo,'DejaVu Sans Mono',consolas,'Courier New',monospace\"><span style=\"color: #008080; text-decoration-color: #008080; font-weight: bold\">2024</span>-<span style=\"color: #008080; text-decoration-color: #008080; font-weight: bold\">03</span>-<span style=\"color: #008080; text-decoration-color: #008080; font-weight: bold\">07</span> <span style=\"color: #00ff00; text-decoration-color: #00ff00; font-weight: bold\">00:54:27</span>,<span style=\"color: #008080; text-decoration-color: #008080; font-weight: bold\">899</span> - <span style=\"font-weight: bold\">{</span>pytorch_tabular:<span style=\"color: #008080; text-decoration-color: #008080; font-weight: bold\">329</span><span style=\"font-weight: bold\">}</span> - INFO - Training FTTransformerModel                               \n",
       "</pre>\n"
      ],
      "text/plain": [
       "\u001b[1;36m2024\u001b[0m-\u001b[1;36m03\u001b[0m-\u001b[1;36m07\u001b[0m \u001b[1;92m00:54:27\u001b[0m,\u001b[1;36m899\u001b[0m - \u001b[1m{\u001b[0mpytorch_tabular:\u001b[1;36m329\u001b[0m\u001b[1m}\u001b[0m - INFO - Training FTTransformerModel                               \n"
      ]
     },
     "metadata": {},
     "output_type": "display_data"
    },
    {
     "data": {
      "application/vnd.jupyter.widget-view+json": {
       "model_id": "2258f14b77254626b109645d608b1f2a",
       "version_major": 2,
       "version_minor": 0
      },
      "text/plain": [
       "Finding best initial lr:   0%|          | 0/100 [00:00<?, ?it/s]"
      ]
     },
     "metadata": {},
     "output_type": "display_data"
    },
    {
     "data": {
      "text/html": [
       "<pre style=\"white-space:pre;overflow-x:auto;line-height:normal;font-family:Menlo,'DejaVu Sans Mono',consolas,'Courier New',monospace\"><span style=\"color: #008080; text-decoration-color: #008080; font-weight: bold\">2024</span>-<span style=\"color: #008080; text-decoration-color: #008080; font-weight: bold\">03</span>-<span style=\"color: #008080; text-decoration-color: #008080; font-weight: bold\">07</span> <span style=\"color: #00ff00; text-decoration-color: #00ff00; font-weight: bold\">00:58:22</span>,<span style=\"color: #008080; text-decoration-color: #008080; font-weight: bold\">050</span> - <span style=\"font-weight: bold\">{</span>pytorch_tabular:<span style=\"color: #008080; text-decoration-color: #008080; font-weight: bold\">368</span><span style=\"font-weight: bold\">}</span> - INFO - Finished Training FTTransformerModel                      \n",
       "</pre>\n"
      ],
      "text/plain": [
       "\u001b[1;36m2024\u001b[0m-\u001b[1;36m03\u001b[0m-\u001b[1;36m07\u001b[0m \u001b[1;92m00:58:22\u001b[0m,\u001b[1;36m050\u001b[0m - \u001b[1m{\u001b[0mpytorch_tabular:\u001b[1;36m368\u001b[0m\u001b[1m}\u001b[0m - INFO - Finished Training FTTransformerModel                      \n"
      ]
     },
     "metadata": {},
     "output_type": "display_data"
    },
    {
     "data": {
      "text/html": [
       "<pre style=\"white-space:pre;overflow-x:auto;line-height:normal;font-family:Menlo,'DejaVu Sans Mono',consolas,'Courier New',monospace\"><span style=\"color: #008080; text-decoration-color: #008080; font-weight: bold\">2024</span>-<span style=\"color: #008080; text-decoration-color: #008080; font-weight: bold\">03</span>-<span style=\"color: #008080; text-decoration-color: #008080; font-weight: bold\">07</span> <span style=\"color: #00ff00; text-decoration-color: #00ff00; font-weight: bold\">00:58:22</span>,<span style=\"color: #008080; text-decoration-color: #008080; font-weight: bold\">051</span> - <span style=\"font-weight: bold\">{</span>pytorch_tabular:<span style=\"color: #008080; text-decoration-color: #008080; font-weight: bold\">369</span><span style=\"font-weight: bold\">}</span> - INFO - Results: model: FTTransformerModel, # Params: <span style=\"color: #008080; text-decoration-color: #008080; font-weight: bold\">118</span> T,      \n",
       "epochs: <span style=\"color: #008080; text-decoration-color: #008080; font-weight: bold\">25</span>, test_loss: <span style=\"color: #008080; text-decoration-color: #008080; font-weight: bold\">0.028711022809147835</span>, test_accuracy: <span style=\"color: #008080; text-decoration-color: #008080; font-weight: bold\">0.9947342872619629</span>, test_f1_score: <span style=\"color: #008080; text-decoration-color: #008080; font-weight: bold\">0.5020282864570618</span>, \n",
       "time_taken: <span style=\"color: #008080; text-decoration-color: #008080; font-weight: bold\">234.17434453964233</span>, time_taken_per_epoch: <span style=\"color: #008080; text-decoration-color: #008080; font-weight: bold\">9.366973781585694</span>                                            \n",
       "</pre>\n"
      ],
      "text/plain": [
       "\u001b[1;36m2024\u001b[0m-\u001b[1;36m03\u001b[0m-\u001b[1;36m07\u001b[0m \u001b[1;92m00:58:22\u001b[0m,\u001b[1;36m051\u001b[0m - \u001b[1m{\u001b[0mpytorch_tabular:\u001b[1;36m369\u001b[0m\u001b[1m}\u001b[0m - INFO - Results: model: FTTransformerModel, # Params: \u001b[1;36m118\u001b[0m T,      \n",
       "epochs: \u001b[1;36m25\u001b[0m, test_loss: \u001b[1;36m0.028711022809147835\u001b[0m, test_accuracy: \u001b[1;36m0.9947342872619629\u001b[0m, test_f1_score: \u001b[1;36m0.5020282864570618\u001b[0m, \n",
       "time_taken: \u001b[1;36m234.17434453964233\u001b[0m, time_taken_per_epoch: \u001b[1;36m9.366973781585694\u001b[0m                                            \n"
      ]
     },
     "metadata": {},
     "output_type": "display_data"
    },
    {
     "data": {
      "text/html": [
       "<pre style=\"white-space:pre;overflow-x:auto;line-height:normal;font-family:Menlo,'DejaVu Sans Mono',consolas,'Courier New',monospace\"></pre>\n"
      ],
      "text/plain": []
     },
     "metadata": {},
     "output_type": "display_data"
    },
    {
     "data": {
      "text/html": [
       "<pre style=\"white-space:pre;overflow-x:auto;line-height:normal;font-family:Menlo,'DejaVu Sans Mono',consolas,'Courier New',monospace\">\n",
       "</pre>\n"
      ],
      "text/plain": [
       "\n"
      ]
     },
     "metadata": {},
     "output_type": "display_data"
    },
    {
     "data": {
      "text/html": [
       "<pre style=\"white-space:pre;overflow-x:auto;line-height:normal;font-family:Menlo,'DejaVu Sans Mono',consolas,'Courier New',monospace\"><span style=\"color: #008080; text-decoration-color: #008080; font-weight: bold\">2024</span>-<span style=\"color: #008080; text-decoration-color: #008080; font-weight: bold\">03</span>-<span style=\"color: #008080; text-decoration-color: #008080; font-weight: bold\">07</span> <span style=\"color: #00ff00; text-decoration-color: #00ff00; font-weight: bold\">00:58:22</span>,<span style=\"color: #008080; text-decoration-color: #008080; font-weight: bold\">054</span> - <span style=\"font-weight: bold\">{</span>pytorch_tabular:<span style=\"color: #008080; text-decoration-color: #008080; font-weight: bold\">387</span><span style=\"font-weight: bold\">}</span> - INFO - Model Sweep Finished                                      \n",
       "</pre>\n"
      ],
      "text/plain": [
       "\u001b[1;36m2024\u001b[0m-\u001b[1;36m03\u001b[0m-\u001b[1;36m07\u001b[0m \u001b[1;92m00:58:22\u001b[0m,\u001b[1;36m054\u001b[0m - \u001b[1m{\u001b[0mpytorch_tabular:\u001b[1;36m387\u001b[0m\u001b[1m}\u001b[0m - INFO - Model Sweep Finished                                      \n"
      ]
     },
     "metadata": {},
     "output_type": "display_data"
    },
    {
     "data": {
      "text/html": [
       "<pre style=\"white-space:pre;overflow-x:auto;line-height:normal;font-family:Menlo,'DejaVu Sans Mono',consolas,'Courier New',monospace\"><span style=\"color: #008080; text-decoration-color: #008080; font-weight: bold\">2024</span>-<span style=\"color: #008080; text-decoration-color: #008080; font-weight: bold\">03</span>-<span style=\"color: #008080; text-decoration-color: #008080; font-weight: bold\">07</span> <span style=\"color: #00ff00; text-decoration-color: #00ff00; font-weight: bold\">00:58:22</span>,<span style=\"color: #008080; text-decoration-color: #008080; font-weight: bold\">055</span> - <span style=\"font-weight: bold\">{</span>pytorch_tabular:<span style=\"color: #008080; text-decoration-color: #008080; font-weight: bold\">388</span><span style=\"font-weight: bold\">}</span> - INFO - Best Model: CategoryEmbeddingModel                        \n",
       "</pre>\n"
      ],
      "text/plain": [
       "\u001b[1;36m2024\u001b[0m-\u001b[1;36m03\u001b[0m-\u001b[1;36m07\u001b[0m \u001b[1;92m00:58:22\u001b[0m,\u001b[1;36m055\u001b[0m - \u001b[1m{\u001b[0mpytorch_tabular:\u001b[1;36m388\u001b[0m\u001b[1m}\u001b[0m - INFO - Best Model: CategoryEmbeddingModel                        \n"
      ]
     },
     "metadata": {},
     "output_type": "display_data"
    },
    {
     "name": "stdout",
     "output_type": "stream",
     "text": [
      "CPU times: total: 38min 43s\n",
      "Wall time: 34min 42s\n"
     ]
    }
   ],
   "source": [
    "%%time\n",
    "# Filtering out the warnings\n",
    "# t = time()\n",
    "\n",
    "with warnings.catch_warnings():\n",
    "    warnings.simplefilter(\"ignore\")\n",
    "    sweep_df, best_model = model_sweep(\n",
    "        task=\"classification\",  # One of \"classification\", \"regression\"\n",
    "        train=train,\n",
    "        test=test,\n",
    "        data_config=data_config,\n",
    "        optimizer_config=optimizer_config,\n",
    "        trainer_config=trainer_config,\n",
    "        model_list=\"standard\",\n",
    "        common_model_args=dict(head=\"LinearHead\", head_config=head_config),\n",
    "        metrics=[\"accuracy\", \"f1_score\"],\n",
    "        metrics_params=[{}, {\"average\": \"macro\"}],\n",
    "        metrics_prob_input=[False, True],\n",
    "        rank_metric=(\"accuracy\", \"higher_is_better\"),\n",
    "        progress_bar=True,\n",
    "        verbose=True,\n",
    "        suppress_lightning_logger=True,\n",
    "    )\n",
    "    \n",
    "\n"
   ]
  },
  {
   "cell_type": "code",
   "execution_count": 9,
   "metadata": {},
   "outputs": [],
   "source": [
    "\n",
    "visualize_sweep_results(sweep_df)\n",
    "save_sweep_results(sweep_df, \"sweep_results\",best_model)\n"
   ]
  }
 ],
 "metadata": {
  "kernelspec": {
   "display_name": "AMEX",
   "language": "python",
   "name": "python3"
  },
  "language_info": {
   "codemirror_mode": {
    "name": "ipython",
    "version": 3
   },
   "file_extension": ".py",
   "mimetype": "text/x-python",
   "name": "python",
   "nbconvert_exporter": "python",
   "pygments_lexer": "ipython3",
   "version": "3.11.8"
  }
 },
 "nbformat": 4,
 "nbformat_minor": 2
}
