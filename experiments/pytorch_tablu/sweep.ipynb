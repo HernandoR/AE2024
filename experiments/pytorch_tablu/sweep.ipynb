{
 "cells": [
  {
   "cell_type": "code",
   "execution_count": 1,
   "metadata": {},
   "outputs": [],
   "source": [
    "\n",
    "import time\n",
    "import torch\n",
    "from sklearn.datasets import make_classification\n",
    "from sklearn.model_selection import train_test_split\n",
    "from sklearn.metrics import accuracy_score, f1_score\n",
    "import random\n",
    "# import numpy as np\n",
    "import pandas as pd\n",
    "# import wandb\n",
    "from rich import print\n",
    "\n",
    "from typing import Callable\n",
    "from datetime import datetime\n",
    "\n",
    "from time import time\n",
    "from pytorch_tabular import model_sweep\n",
    "import warnings\n",
    "\n",
    "# from pytorch_tabular import TabularModel\n",
    "# from pytorch_tabular.models import CategoryEmbeddingModelConfig\n",
    "from pytorch_tabular.config import (\n",
    "    DataConfig,\n",
    "    OptimizerConfig,\n",
    "    TrainerConfig,\n",
    "    ExperimentConfig,\n",
    ")\n",
    "from pytorch_tabular.models.common.heads import LinearHeadConfig\n",
    "\n",
    "\n",
    "from pytorch_tabular.utils import (\n",
    "    make_mixed_dataset,\n",
    "    print_metrics,\n",
    "    load_covertype_dataset,\n",
    ")\n",
    "from pytorch_tabular.utils import get_balanced_sampler, get_class_weighted_cross_entropy\n",
    "\n",
    "# import os\n",
    "%load_ext autoreload\n",
    "%autoreload 2"
   ]
  },
  {
   "cell_type": "code",
   "execution_count": 2,
   "metadata": {},
   "outputs": [
    {
     "data": {
      "text/html": [
       "<pre style=\"white-space:pre;overflow-x:auto;line-height:normal;font-family:Menlo,'DejaVu Sans Mono',consolas,'Courier New',monospace\">mps\n",
       "</pre>\n"
      ],
      "text/plain": [
       "mps\n"
      ]
     },
     "metadata": {},
     "output_type": "display_data"
    },
    {
     "data": {
      "text/html": [
       "<pre style=\"white-space:pre;overflow-x:auto;line-height:normal;font-family:Menlo,'DejaVu Sans Mono',consolas,'Courier New',monospace\"><span style=\"font-weight: bold\">[</span><span style=\"color: #008000; text-decoration-color: #008000\">'activation'</span>, <span style=\"color: #008000; text-decoration-color: #008000\">'ind_recommended'</span><span style=\"font-weight: bold\">]</span>\n",
       "</pre>\n"
      ],
      "text/plain": [
       "\u001b[1m[\u001b[0m\u001b[32m'activation'\u001b[0m, \u001b[32m'ind_recommended'\u001b[0m\u001b[1m]\u001b[0m\n"
      ]
     },
     "metadata": {},
     "output_type": "display_data"
    },
    {
     "data": {
      "text/html": [
       "<pre style=\"white-space:pre;overflow-x:auto;line-height:normal;font-family:Menlo,'DejaVu Sans Mono',consolas,'Courier New',monospace\"><span style=\"color: #808000; text-decoration-color: #808000\">target_cols</span>=<span style=\"font-weight: bold\">[</span><span style=\"color: #008000; text-decoration-color: #008000\">'activation'</span>, <span style=\"color: #008000; text-decoration-color: #008000\">'ind_recommended'</span><span style=\"font-weight: bold\">]</span>, <span style=\"color: #808000; text-decoration-color: #808000\">cat_col_names</span>=<span style=\"font-weight: bold\">[</span><span style=\"color: #008000; text-decoration-color: #008000\">'merchant_profile_01'</span><span style=\"font-weight: bold\">]</span>, \n",
       "<span style=\"color: #808000; text-decoration-color: #808000\">num_col_names</span>=<span style=\"font-weight: bold\">[</span><span style=\"color: #008000; text-decoration-color: #008000\">'customer_digital_activity_02'</span>, <span style=\"color: #008000; text-decoration-color: #008000\">'customer_profile_01'</span>, <span style=\"color: #008000; text-decoration-color: #008000\">'customer_profile_02'</span>, <span style=\"color: #008000; text-decoration-color: #008000\">'customer_profile_03'</span>,\n",
       "<span style=\"color: #008000; text-decoration-color: #008000\">'customer_profile_04'</span>, <span style=\"color: #008000; text-decoration-color: #008000\">'customer_spend_06'</span>, <span style=\"color: #008000; text-decoration-color: #008000\">'customer_spend_07'</span>, <span style=\"color: #008000; text-decoration-color: #008000\">'distance_05'</span><span style=\"font-weight: bold\">]</span>\n",
       "</pre>\n"
      ],
      "text/plain": [
       "\u001b[33mtarget_cols\u001b[0m=\u001b[1m[\u001b[0m\u001b[32m'activation'\u001b[0m, \u001b[32m'ind_recommended'\u001b[0m\u001b[1m]\u001b[0m, \u001b[33mcat_col_names\u001b[0m=\u001b[1m[\u001b[0m\u001b[32m'merchant_profile_01'\u001b[0m\u001b[1m]\u001b[0m, \n",
       "\u001b[33mnum_col_names\u001b[0m=\u001b[1m[\u001b[0m\u001b[32m'customer_digital_activity_02'\u001b[0m, \u001b[32m'customer_profile_01'\u001b[0m, \u001b[32m'customer_profile_02'\u001b[0m, \u001b[32m'customer_profile_03'\u001b[0m,\n",
       "\u001b[32m'customer_profile_04'\u001b[0m, \u001b[32m'customer_spend_06'\u001b[0m, \u001b[32m'customer_spend_07'\u001b[0m, \u001b[32m'distance_05'\u001b[0m\u001b[1m]\u001b[0m\n"
      ]
     },
     "metadata": {},
     "output_type": "display_data"
    },
    {
     "data": {
      "text/html": [
       "<pre style=\"white-space:pre;overflow-x:auto;line-height:normal;font-family:Menlo,'DejaVu Sans Mono',consolas,'Courier New',monospace\">train.<span style=\"color: #808000; text-decoration-color: #808000\">shape</span>=<span style=\"font-weight: bold\">(</span><span style=\"color: #008080; text-decoration-color: #008080; font-weight: bold\">302272</span>, <span style=\"color: #008080; text-decoration-color: #008080; font-weight: bold\">11</span><span style=\"font-weight: bold\">)</span>, val.<span style=\"color: #808000; text-decoration-color: #808000\">shape</span>=<span style=\"font-weight: bold\">(</span><span style=\"color: #008080; text-decoration-color: #008080; font-weight: bold\">75569</span>, <span style=\"color: #008080; text-decoration-color: #008080; font-weight: bold\">11</span><span style=\"font-weight: bold\">)</span>, test.<span style=\"color: #808000; text-decoration-color: #808000\">shape</span>=<span style=\"font-weight: bold\">(</span><span style=\"color: #008080; text-decoration-color: #008080; font-weight: bold\">125947</span>, <span style=\"color: #008080; text-decoration-color: #008080; font-weight: bold\">11</span><span style=\"font-weight: bold\">)</span>\n",
       "</pre>\n"
      ],
      "text/plain": [
       "train.\u001b[33mshape\u001b[0m=\u001b[1m(\u001b[0m\u001b[1;36m302272\u001b[0m, \u001b[1;36m11\u001b[0m\u001b[1m)\u001b[0m, val.\u001b[33mshape\u001b[0m=\u001b[1m(\u001b[0m\u001b[1;36m75569\u001b[0m, \u001b[1;36m11\u001b[0m\u001b[1m)\u001b[0m, test.\u001b[33mshape\u001b[0m=\u001b[1m(\u001b[0m\u001b[1;36m125947\u001b[0m, \u001b[1;36m11\u001b[0m\u001b[1m)\u001b[0m\n"
      ]
     },
     "metadata": {},
     "output_type": "display_data"
    }
   ],
   "source": [
    "\n",
    "Feature_Explain = pd.read_excel(\"data/Amex_ori/Amex Campus.xlsx\")\n",
    "Feature_target_cols = Feature_Explain[\"Feature Name\"][\n",
    "    Feature_Explain[\"Extended description\"] == \"Target\"\n",
    "].to_list()\n",
    "Feature_cat_col_names = Feature_Explain[\"Feature Name\"][\n",
    "    Feature_Explain[\"Feature Type\"] == \"categorical\"\n",
    "].to_list()\n",
    "Feature_num_col_names = Feature_Explain[\"Feature Name\"][\n",
    "    Feature_Explain[\"Variable Type\"] == \"numeric\"\n",
    "].to_list()\n",
    "\n",
    "DEVICE = (\n",
    "    \"mps\"\n",
    "    if torch.backends.mps.is_available()\n",
    "    else (\"gpu\" if torch.cuda.is_available() else \"cpu\")\n",
    ")\n",
    "print(DEVICE)\n",
    "\n",
    "# %%\n",
    "data = pd.read_parquet(\"data/train.parquet\")\n",
    "\n",
    "cols = data.columns.to_list()\n",
    "target_cols = [col for col in cols if col in Feature_target_cols]\n",
    "if len(target_cols) == 0:\n",
    "    print(\"No target column found\")\n",
    "    exit()\n",
    "# elif len(target_cols) > 1:\n",
    "#     target_col=target_cols[1]\n",
    "cat_col_names = [col for col in cols if col in Feature_cat_col_names]\n",
    "num_col_names = [col for col in cols if col in Feature_num_col_names]\n",
    "\n",
    "print(f\"{target_cols}\")\n",
    "# target_col=cols.unite(Feature_target_cols)\n",
    "\n",
    "# target_col = 'activation'\n",
    "\n",
    "# %%\n",
    "\n",
    "needed_cols = cat_col_names + num_col_names + target_cols\n",
    "data = data[needed_cols]\n",
    "\n",
    "data.head()\n",
    "print(\n",
    "    f\"target_cols={target_cols}, cat_col_names={cat_col_names}, num_col_names={num_col_names}\"\n",
    ")\n",
    "\n",
    "# %%\n",
    "# Data: DF, cat_col_names, num_col_names\n",
    "\n",
    "# 1. activate(0.57%) X recom(12.7%) -> 0~3\n",
    "\n",
    "_,data=train_test_split(data,test_size=0.05)\n",
    "\n",
    "train, test = train_test_split(data)\n",
    "train, val = train_test_split(train,test_size=0.2)\n",
    "\n",
    "print(f\"train.shape={train.shape}, val.shape={val.shape}, test.shape={test.shape}\")\n"
   ]
  },
  {
   "cell_type": "code",
   "execution_count": 3,
   "metadata": {},
   "outputs": [],
   "source": [
    "\n",
    "target_col = target_cols[0]\n",
    "\n",
    "data_config = DataConfig(\n",
    "    target=[target_col],\n",
    "    # target should always be a list. Multi-targets are only supported for regression. Multi-Task Classification is not implemented\n",
    "    continuous_cols=num_col_names,\n",
    "    categorical_cols=cat_col_names,\n",
    "    num_workers=6,\n",
    ")\n",
    "trainer_config = TrainerConfig(\n",
    "    auto_lr_find=True,  # Runs the LRFinder to automatically derive a learning rate\n",
    "    batch_size=1024,\n",
    "    max_epochs=25,\n",
    "    early_stopping=None,\n",
    "    # early_stopping=\"valid_loss\",  # Monitor valid_loss for early stopping\n",
    "    # early_stopping_mode=\"min\",  # Set the mode as min because for val_loss, lower is better\n",
    "    # early_stopping_patience=5,  # No. of epochs of degradation training will wait before terminating\n",
    "    checkpoints=\"valid_loss\",  # Save best checkpoint monitoring val_loss\n",
    "    checkpoints_path=\"checkpoints\",  # Save the checkpoint in the experiment directory\n",
    "    # checkpoints_save_top_k=5,\n",
    "    # progress_bar=\"simple\",\n",
    "    load_best=True,  # After training, load the best checkpoint\n",
    "    # accelerator=DEVICE,\n",
    "    trainer_kwargs=dict(enable_model_summary=False),  # Turning off model summary\n",
    ")\n",
    "optimizer_config = OptimizerConfig()\n",
    "\n",
    "head_config = LinearHeadConfig(\n",
    "    layers=\"\",  # No additional layer in head, just a mapping layer to output_dim\n",
    "    dropout=0.1,\n",
    "    initialization=\"kaiming\",\n",
    ").__dict__  # Convert to dict to pass to the model config (OmegaConf doesn't accept objects)\n",
    "\n"
   ]
  },
  {
   "cell_type": "code",
   "execution_count": 4,
   "metadata": {},
   "outputs": [],
   "source": [
    "\n",
    "def save_sweep_results(sweep_df, save_dir, best_model):\n",
    "    sweep_df.drop(columns=[\"params\", \"time_taken\", \"epochs\"])\n",
    "    sweep_df.to_excel(f\"{save_dir}/sweep_result.xlsx\", index=False)\n",
    "    best_model.save_model(f\"{save_dir}/best_model.ckpt\")\n",
    "\n",
    "\n",
    "def visualize_sweep_results(sweep_df):\n",
    "    sweep_df.drop(columns=[\"params\", \"time_taken\", \"epochs\"]).style.background_gradient(\n",
    "        subset=[\"test_accuracy\", \"test_f1_score\"], cmap=\"RdYlGn\"\n",
    "    ).background_gradient(subset=[\"time_taken_per_epoch\", \"test_loss\"], cmap=\"RdYlGn_r\")\n",
    "\n"
   ]
  },
  {
   "cell_type": "code",
   "execution_count": 5,
   "metadata": {},
   "outputs": [
    {
     "data": {
      "application/vnd.jupyter.widget-view+json": {
       "model_id": "8f7d20ee308440d6aa0411a9e05abd62",
       "version_major": 2,
       "version_minor": 0
      },
      "text/plain": [
       "Output()"
      ]
     },
     "metadata": {},
     "output_type": "display_data"
    },
    {
     "data": {
      "application/vnd.jupyter.widget-view+json": {
       "model_id": "79ac065b74b34e91838aeb2602d7d325",
       "version_major": 2,
       "version_minor": 0
      },
      "text/plain": [
       "Finding best initial lr:   0%|          | 0/100 [00:00<?, ?it/s]"
      ]
     },
     "metadata": {},
     "output_type": "display_data"
    },
    {
     "data": {
      "text/html": [
       "<pre style=\"white-space:pre;overflow-x:auto;line-height:normal;font-family:Menlo,'DejaVu Sans Mono',consolas,'Courier New',monospace\">Exception ignored in: &lt;function _MultiProcessingDataLoaderIter.__del__ at 0x145760360&gt;\n",
       "</pre>\n"
      ],
      "text/plain": [
       "Exception ignored in: <function _MultiProcessingDataLoaderIter.__del__ at 0x145760360>\n"
      ]
     },
     "metadata": {},
     "output_type": "display_data"
    },
    {
     "data": {
      "text/html": [
       "<pre style=\"white-space:pre;overflow-x:auto;line-height:normal;font-family:Menlo,'DejaVu Sans Mono',consolas,'Courier New',monospace\">Traceback (most recent call last):\n",
       "</pre>\n"
      ],
      "text/plain": [
       "Traceback (most recent call last):\n"
      ]
     },
     "metadata": {},
     "output_type": "display_data"
    },
    {
     "data": {
      "text/html": [
       "<pre style=\"white-space:pre;overflow-x:auto;line-height:normal;font-family:Menlo,'DejaVu Sans Mono',consolas,'Courier New',monospace\">  File \n",
       "\"/opt/homebrew/Caskroom/miniforge/base/envs/AMEX/lib/python3.11/site-packages/torch/utils/data/dataloader.py\", line\n",
       "1479, in __del__\n",
       "</pre>\n"
      ],
      "text/plain": [
       "  File \n",
       "\"/opt/homebrew/Caskroom/miniforge/base/envs/AMEX/lib/python3.11/site-packages/torch/utils/data/dataloader.py\", line\n",
       "1479, in __del__\n"
      ]
     },
     "metadata": {},
     "output_type": "display_data"
    },
    {
     "data": {
      "text/html": [
       "<pre style=\"white-space:pre;overflow-x:auto;line-height:normal;font-family:Menlo,'DejaVu Sans Mono',consolas,'Courier New',monospace\">    self._shutdown_workers()\n",
       "</pre>\n"
      ],
      "text/plain": [
       "    self._shutdown_workers()\n"
      ]
     },
     "metadata": {},
     "output_type": "display_data"
    },
    {
     "data": {
      "text/html": [
       "<pre style=\"white-space:pre;overflow-x:auto;line-height:normal;font-family:Menlo,'DejaVu Sans Mono',consolas,'Courier New',monospace\">  File \n",
       "\"/opt/homebrew/Caskroom/miniforge/base/envs/AMEX/lib/python3.11/site-packages/torch/utils/data/dataloader.py\", line\n",
       "1443, in _shutdown_workers\n",
       "</pre>\n"
      ],
      "text/plain": [
       "  File \n",
       "\"/opt/homebrew/Caskroom/miniforge/base/envs/AMEX/lib/python3.11/site-packages/torch/utils/data/dataloader.py\", line\n",
       "1443, in _shutdown_workers\n"
      ]
     },
     "metadata": {},
     "output_type": "display_data"
    },
    {
     "data": {
      "text/html": [
       "<pre style=\"white-space:pre;overflow-x:auto;line-height:normal;font-family:Menlo,'DejaVu Sans Mono',consolas,'Courier New',monospace\">    w.join(timeout=_utils.MP_STATUS_CHECK_INTERVAL)\n",
       "</pre>\n"
      ],
      "text/plain": [
       "    w.join(timeout=_utils.MP_STATUS_CHECK_INTERVAL)\n"
      ]
     },
     "metadata": {},
     "output_type": "display_data"
    },
    {
     "data": {
      "text/html": [
       "<pre style=\"white-space:pre;overflow-x:auto;line-height:normal;font-family:Menlo,'DejaVu Sans Mono',consolas,'Courier New',monospace\">  File \"/opt/homebrew/Caskroom/miniforge/base/envs/AMEX/lib/python3.11/multiprocessing/process.py\", line 149, in \n",
       "join\n",
       "</pre>\n"
      ],
      "text/plain": [
       "  File \"/opt/homebrew/Caskroom/miniforge/base/envs/AMEX/lib/python3.11/multiprocessing/process.py\", line 149, in \n",
       "join\n"
      ]
     },
     "metadata": {},
     "output_type": "display_data"
    },
    {
     "data": {
      "text/html": [
       "<pre style=\"white-space:pre;overflow-x:auto;line-height:normal;font-family:Menlo,'DejaVu Sans Mono',consolas,'Courier New',monospace\">    res = self._popen.wait(timeout)\n",
       "</pre>\n"
      ],
      "text/plain": [
       "    res = self._popen.wait(timeout)\n"
      ]
     },
     "metadata": {},
     "output_type": "display_data"
    },
    {
     "data": {
      "text/html": [
       "<pre style=\"white-space:pre;overflow-x:auto;line-height:normal;font-family:Menlo,'DejaVu Sans Mono',consolas,'Courier New',monospace\">          ^^^^^^^^^^^^^^^^^^^^^^^^^\n",
       "</pre>\n"
      ],
      "text/plain": [
       "          ^^^^^^^^^^^^^^^^^^^^^^^^^\n"
      ]
     },
     "metadata": {},
     "output_type": "display_data"
    },
    {
     "data": {
      "text/html": [
       "<pre style=\"white-space:pre;overflow-x:auto;line-height:normal;font-family:Menlo,'DejaVu Sans Mono',consolas,'Courier New',monospace\">  File \"/opt/homebrew/Caskroom/miniforge/base/envs/AMEX/lib/python3.11/multiprocessing/popen_fork.py\", line 40, in \n",
       "wait\n",
       "</pre>\n"
      ],
      "text/plain": [
       "  File \"/opt/homebrew/Caskroom/miniforge/base/envs/AMEX/lib/python3.11/multiprocessing/popen_fork.py\", line 40, in \n",
       "wait\n"
      ]
     },
     "metadata": {},
     "output_type": "display_data"
    },
    {
     "data": {
      "text/html": [
       "<pre style=\"white-space:pre;overflow-x:auto;line-height:normal;font-family:Menlo,'DejaVu Sans Mono',consolas,'Courier New',monospace\">    if not wait([self.sentinel], timeout):\n",
       "</pre>\n"
      ],
      "text/plain": [
       "    if not wait([self.sentinel], timeout):\n"
      ]
     },
     "metadata": {},
     "output_type": "display_data"
    },
    {
     "data": {
      "text/html": [
       "<pre style=\"white-space:pre;overflow-x:auto;line-height:normal;font-family:Menlo,'DejaVu Sans Mono',consolas,'Courier New',monospace\">           ^^^^^^^^^^^^^^^^^^^^^^^^^^^^^^\n",
       "</pre>\n"
      ],
      "text/plain": [
       "           ^^^^^^^^^^^^^^^^^^^^^^^^^^^^^^\n"
      ]
     },
     "metadata": {},
     "output_type": "display_data"
    },
    {
     "data": {
      "text/html": [
       "<pre style=\"white-space:pre;overflow-x:auto;line-height:normal;font-family:Menlo,'DejaVu Sans Mono',consolas,'Courier New',monospace\">  File \"/opt/homebrew/Caskroom/miniforge/base/envs/AMEX/lib/python3.11/multiprocessing/connection.py\", line 947, in\n",
       "wait\n",
       "</pre>\n"
      ],
      "text/plain": [
       "  File \"/opt/homebrew/Caskroom/miniforge/base/envs/AMEX/lib/python3.11/multiprocessing/connection.py\", line 947, in\n",
       "wait\n"
      ]
     },
     "metadata": {},
     "output_type": "display_data"
    },
    {
     "data": {
      "text/html": [
       "<pre style=\"white-space:pre;overflow-x:auto;line-height:normal;font-family:Menlo,'DejaVu Sans Mono',consolas,'Courier New',monospace\">    ready = selector.select(timeout)\n",
       "</pre>\n"
      ],
      "text/plain": [
       "    ready = selector.select(timeout)\n"
      ]
     },
     "metadata": {},
     "output_type": "display_data"
    },
    {
     "data": {
      "text/html": [
       "<pre style=\"white-space:pre;overflow-x:auto;line-height:normal;font-family:Menlo,'DejaVu Sans Mono',consolas,'Courier New',monospace\">            ^^^^^^^^^^^^^^^^^^^^^^^^\n",
       "</pre>\n"
      ],
      "text/plain": [
       "            ^^^^^^^^^^^^^^^^^^^^^^^^\n"
      ]
     },
     "metadata": {},
     "output_type": "display_data"
    },
    {
     "data": {
      "text/html": [
       "<pre style=\"white-space:pre;overflow-x:auto;line-height:normal;font-family:Menlo,'DejaVu Sans Mono',consolas,'Courier New',monospace\">  File \"/opt/homebrew/Caskroom/miniforge/base/envs/AMEX/lib/python3.11/selectors.py\", line 415, in select\n",
       "</pre>\n"
      ],
      "text/plain": [
       "  File \"/opt/homebrew/Caskroom/miniforge/base/envs/AMEX/lib/python3.11/selectors.py\", line 415, in select\n"
      ]
     },
     "metadata": {},
     "output_type": "display_data"
    },
    {
     "data": {
      "text/html": [
       "<pre style=\"white-space:pre;overflow-x:auto;line-height:normal;font-family:Menlo,'DejaVu Sans Mono',consolas,'Courier New',monospace\">    fd_event_list = self._selector.poll(timeout)\n",
       "</pre>\n"
      ],
      "text/plain": [
       "    fd_event_list = self._selector.poll(timeout)\n"
      ]
     },
     "metadata": {},
     "output_type": "display_data"
    },
    {
     "data": {
      "text/html": [
       "<pre style=\"white-space:pre;overflow-x:auto;line-height:normal;font-family:Menlo,'DejaVu Sans Mono',consolas,'Courier New',monospace\">                    ^^^^^^^^^^^^^^^^^^^^^^^^^^^^\n",
       "</pre>\n"
      ],
      "text/plain": [
       "                    ^^^^^^^^^^^^^^^^^^^^^^^^^^^^\n"
      ]
     },
     "metadata": {},
     "output_type": "display_data"
    },
    {
     "data": {
      "text/html": [
       "<pre style=\"white-space:pre;overflow-x:auto;line-height:normal;font-family:Menlo,'DejaVu Sans Mono',consolas,'Courier New',monospace\">KeyboardInterrupt: \n",
       "</pre>\n"
      ],
      "text/plain": [
       "KeyboardInterrupt: \n"
      ]
     },
     "metadata": {},
     "output_type": "display_data"
    }
   ],
   "source": [
    "%%time\n",
    "# Filtering out the warnings\n",
    "# t = time()\n",
    "\n",
    "with warnings.catch_warnings():\n",
    "    warnings.simplefilter(\"ignore\")\n",
    "    sweep_df, best_model = model_sweep(\n",
    "        task=\"classification\",  # One of \"classification\", \"regression\"\n",
    "        train=train,\n",
    "        test=test,\n",
    "        data_config=data_config,\n",
    "        optimizer_config=optimizer_config,\n",
    "        trainer_config=trainer_config,\n",
    "        model_list=\"lite\",\n",
    "        common_model_args=dict(head=\"LinearHead\", head_config=head_config),\n",
    "        metrics=[\"accuracy\", \"f1_score\"],\n",
    "        metrics_params=[{}, {\"average\": \"macro\"}],\n",
    "        metrics_prob_input=[False, True],\n",
    "        rank_metric=(\"accuracy\", \"higher_is_better\"),\n",
    "        progress_bar=True,\n",
    "        verbose=True,\n",
    "        suppress_lightning_logger=True,\n",
    "    )\n",
    "    \n",
    "\n"
   ]
  },
  {
   "cell_type": "code",
   "execution_count": null,
   "metadata": {},
   "outputs": [],
   "source": [
    "\n",
    "visualize_sweep_results(sweep_df)\n",
    "save_sweep_results(sweep_df, \"sweep_results\")\n"
   ]
  }
 ],
 "metadata": {
  "kernelspec": {
   "display_name": "AMEX",
   "language": "python",
   "name": "python3"
  },
  "language_info": {
   "codemirror_mode": {
    "name": "ipython",
    "version": 3
   },
   "file_extension": ".py",
   "mimetype": "text/x-python",
   "name": "python",
   "nbconvert_exporter": "python",
   "pygments_lexer": "ipython3",
   "version": "3.11.8"
  }
 },
 "nbformat": 4,
 "nbformat_minor": 2
}
