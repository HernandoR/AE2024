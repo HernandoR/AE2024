{
 "cells": [
  {
   "cell_type": "code",
   "execution_count": 8,
   "metadata": {},
   "outputs": [
    {
     "name": "stdout",
     "output_type": "stream",
     "text": [
      "The autoreload extension is already loaded. To reload it, use:\n",
      "  %reload_ext autoreload\n"
     ]
    }
   ],
   "source": [
    "\n",
    "import time\n",
    "import torch\n",
    "from sklearn.datasets import make_classification\n",
    "from sklearn.model_selection import train_test_split\n",
    "from sklearn.metrics import accuracy_score, f1_score\n",
    "import random\n",
    "# import numpy as np\n",
    "import pandas as pd\n",
    "# import wandb\n",
    "from rich import print\n",
    "\n",
    "from typing import Callable\n",
    "from datetime import datetime\n",
    "\n",
    "from time import time\n",
    "from pytorch_tabular import model_sweep\n",
    "import warnings\n",
    "\n",
    "# from pytorch_tabular import TabularModel\n",
    "# from pytorch_tabular.models import CategoryEmbeddingModelConfig\n",
    "from pytorch_tabular.config import (\n",
    "    DataConfig,\n",
    "    OptimizerConfig,\n",
    "    TrainerConfig,\n",
    "    ExperimentConfig,\n",
    ")\n",
    "from pytorch_tabular.models.common.heads import LinearHeadConfig\n",
    "\n",
    "\n",
    "from pytorch_tabular.utils import (\n",
    "    make_mixed_dataset,\n",
    "    print_metrics,\n",
    "    load_covertype_dataset,\n",
    ")\n",
    "from pytorch_tabular.utils import get_balanced_sampler, get_class_weighted_cross_entropy\n",
    "\n",
    "# import os\n",
    "%load_ext autoreload\n",
    "%autoreload 2"
   ]
  },
  {
   "cell_type": "code",
   "execution_count": 9,
   "metadata": {},
   "outputs": [
    {
     "data": {
      "text/html": [
       "<pre style=\"white-space:pre;overflow-x:auto;line-height:normal;font-family:Menlo,'DejaVu Sans Mono',consolas,'Courier New',monospace\">mps\n",
       "</pre>\n"
      ],
      "text/plain": [
       "mps\n"
      ]
     },
     "metadata": {},
     "output_type": "display_data"
    },
    {
     "data": {
      "text/html": [
       "<pre style=\"white-space:pre;overflow-x:auto;line-height:normal;font-family:Menlo,'DejaVu Sans Mono',consolas,'Courier New',monospace\"><span style=\"font-weight: bold\">[</span><span style=\"color: #008000; text-decoration-color: #008000\">'activation'</span>, <span style=\"color: #008000; text-decoration-color: #008000\">'ind_recommended'</span><span style=\"font-weight: bold\">]</span>\n",
       "</pre>\n"
      ],
      "text/plain": [
       "\u001b[1m[\u001b[0m\u001b[32m'activation'\u001b[0m, \u001b[32m'ind_recommended'\u001b[0m\u001b[1m]\u001b[0m\n"
      ]
     },
     "metadata": {},
     "output_type": "display_data"
    },
    {
     "data": {
      "text/html": [
       "<pre style=\"white-space:pre;overflow-x:auto;line-height:normal;font-family:Menlo,'DejaVu Sans Mono',consolas,'Courier New',monospace\"><span style=\"color: #808000; text-decoration-color: #808000\">target_cols</span>=<span style=\"font-weight: bold\">[</span><span style=\"color: #008000; text-decoration-color: #008000\">'activation'</span>, <span style=\"color: #008000; text-decoration-color: #008000\">'ind_recommended'</span><span style=\"font-weight: bold\">]</span>, <span style=\"color: #808000; text-decoration-color: #808000\">cat_col_names</span>=<span style=\"font-weight: bold\">[</span><span style=\"color: #008000; text-decoration-color: #008000\">'merchant_profile_01'</span><span style=\"font-weight: bold\">]</span>, \n",
       "<span style=\"color: #808000; text-decoration-color: #808000\">num_col_names</span>=<span style=\"font-weight: bold\">[</span><span style=\"color: #008000; text-decoration-color: #008000\">'customer_digital_activity_02'</span>, <span style=\"color: #008000; text-decoration-color: #008000\">'customer_profile_01'</span>, <span style=\"color: #008000; text-decoration-color: #008000\">'customer_profile_02'</span>, <span style=\"color: #008000; text-decoration-color: #008000\">'customer_profile_03'</span>,\n",
       "<span style=\"color: #008000; text-decoration-color: #008000\">'customer_profile_04'</span>, <span style=\"color: #008000; text-decoration-color: #008000\">'customer_spend_06'</span>, <span style=\"color: #008000; text-decoration-color: #008000\">'customer_spend_07'</span>, <span style=\"color: #008000; text-decoration-color: #008000\">'distance_05'</span><span style=\"font-weight: bold\">]</span>\n",
       "</pre>\n"
      ],
      "text/plain": [
       "\u001b[33mtarget_cols\u001b[0m=\u001b[1m[\u001b[0m\u001b[32m'activation'\u001b[0m, \u001b[32m'ind_recommended'\u001b[0m\u001b[1m]\u001b[0m, \u001b[33mcat_col_names\u001b[0m=\u001b[1m[\u001b[0m\u001b[32m'merchant_profile_01'\u001b[0m\u001b[1m]\u001b[0m, \n",
       "\u001b[33mnum_col_names\u001b[0m=\u001b[1m[\u001b[0m\u001b[32m'customer_digital_activity_02'\u001b[0m, \u001b[32m'customer_profile_01'\u001b[0m, \u001b[32m'customer_profile_02'\u001b[0m, \u001b[32m'customer_profile_03'\u001b[0m,\n",
       "\u001b[32m'customer_profile_04'\u001b[0m, \u001b[32m'customer_spend_06'\u001b[0m, \u001b[32m'customer_spend_07'\u001b[0m, \u001b[32m'distance_05'\u001b[0m\u001b[1m]\u001b[0m\n"
      ]
     },
     "metadata": {},
     "output_type": "display_data"
    }
   ],
   "source": [
    "\n",
    "Feature_Explain = pd.read_excel(\"data/Amex_ori/Amex Campus.xlsx\")\n",
    "Feature_target_cols = Feature_Explain[\"Feature Name\"][\n",
    "    Feature_Explain[\"Extended description\"] == \"Target\"\n",
    "].to_list()\n",
    "Feature_cat_col_names = Feature_Explain[\"Feature Name\"][\n",
    "    Feature_Explain[\"Feature Type\"] == \"categorical\"\n",
    "].to_list()\n",
    "Feature_num_col_names = Feature_Explain[\"Feature Name\"][\n",
    "    Feature_Explain[\"Variable Type\"] == \"numeric\"\n",
    "].to_list()\n",
    "\n",
    "DEVICE = (\n",
    "    \"mps\"\n",
    "    if torch.backends.mps.is_available()\n",
    "    else (\"gpu\" if torch.cuda.is_available() else \"cpu\")\n",
    ")\n",
    "print(DEVICE)\n",
    "\n",
    "# %%\n",
    "data = pd.read_parquet(\"data/train.parquet\")\n",
    "\n",
    "cols = data.columns.to_list()\n",
    "target_cols = [col for col in cols if col in Feature_target_cols]\n",
    "if len(target_cols) == 0:\n",
    "    print(\"No target column found\")\n",
    "    exit()\n",
    "# elif len(target_cols) > 1:\n",
    "#     target_col=target_cols[1]\n",
    "cat_col_names = [col for col in cols if col in Feature_cat_col_names]\n",
    "num_col_names = [col for col in cols if col in Feature_num_col_names]\n",
    "\n",
    "print(f\"{target_cols}\")\n",
    "# target_col=cols.unite(Feature_target_cols)\n",
    "\n",
    "# target_col = 'activation'\n",
    "\n",
    "# %%\n",
    "\n",
    "needed_cols = cat_col_names + num_col_names + target_cols\n",
    "data = data[needed_cols]\n",
    "\n",
    "data.head()\n",
    "print(\n",
    "    f\"target_cols={target_cols}, cat_col_names={cat_col_names}, num_col_names={num_col_names}\"\n",
    ")\n",
    "\n",
    "# %%\n",
    "# Data: DF, cat_col_names, num_col_names\n",
    "\n",
    "# 1. activate(0.57%) X recom(12.7%) -> 0~3\n",
    "\n",
    "# _,data=train_test_split(data,test_size=0.05)\n",
    "\n",
    "# undersampling\n",
    "from imblearn.under_sampling import RandomUnderSampler\n",
    "\n",
    "data['class']=data.apply(lambda x: x[target_cols[1]]*2+x[target_cols[0]],axis=1)\n",
    "X=data[needed_cols]\n",
    "y=data['class']\n",
    "rus = RandomUnderSampler()\n",
    "X_rus, y_rus = rus.fit_resample(X, y)\n",
    "\n",
    "data=X_rus\n",
    "\n",
    "train, test = train_test_split(data)\n",
    "train, val = train_test_split(train,test_size=0.2)\n",
    "\n",
    "print(f\"train.shape={train.shape}, val.shape={val.shape}, test.shape={test.shape}\")\n"
   ]
  },
  {
   "cell_type": "code",
   "execution_count": null,
   "metadata": {},
   "outputs": [
    {
     "data": {
      "text/html": [
       "<div>\n",
       "<style scoped>\n",
       "    .dataframe tbody tr th:only-of-type {\n",
       "        vertical-align: middle;\n",
       "    }\n",
       "\n",
       "    .dataframe tbody tr th {\n",
       "        vertical-align: top;\n",
       "    }\n",
       "\n",
       "    .dataframe thead th {\n",
       "        text-align: right;\n",
       "    }\n",
       "</style>\n",
       "<table border=\"1\" class=\"dataframe\">\n",
       "  <thead>\n",
       "    <tr style=\"text-align: right;\">\n",
       "      <th></th>\n",
       "      <th>activation</th>\n",
       "      <th>ind_recommended</th>\n",
       "    </tr>\n",
       "  </thead>\n",
       "  <tbody>\n",
       "    <tr>\n",
       "      <th>count</th>\n",
       "      <td>21201.000000</td>\n",
       "      <td>21201.000000</td>\n",
       "    </tr>\n",
       "    <tr>\n",
       "      <th>mean</th>\n",
       "      <td>0.501580</td>\n",
       "      <td>0.499741</td>\n",
       "    </tr>\n",
       "    <tr>\n",
       "      <th>std</th>\n",
       "      <td>0.500009</td>\n",
       "      <td>0.500012</td>\n",
       "    </tr>\n",
       "    <tr>\n",
       "      <th>min</th>\n",
       "      <td>0.000000</td>\n",
       "      <td>0.000000</td>\n",
       "    </tr>\n",
       "    <tr>\n",
       "      <th>25%</th>\n",
       "      <td>0.000000</td>\n",
       "      <td>0.000000</td>\n",
       "    </tr>\n",
       "    <tr>\n",
       "      <th>50%</th>\n",
       "      <td>1.000000</td>\n",
       "      <td>0.000000</td>\n",
       "    </tr>\n",
       "    <tr>\n",
       "      <th>75%</th>\n",
       "      <td>1.000000</td>\n",
       "      <td>1.000000</td>\n",
       "    </tr>\n",
       "    <tr>\n",
       "      <th>max</th>\n",
       "      <td>1.000000</td>\n",
       "      <td>1.000000</td>\n",
       "    </tr>\n",
       "  </tbody>\n",
       "</table>\n",
       "</div>"
      ],
      "text/plain": [
       "         activation  ind_recommended\n",
       "count  21201.000000     21201.000000\n",
       "mean       0.501580         0.499741\n",
       "std        0.500009         0.500012\n",
       "min        0.000000         0.000000\n",
       "25%        0.000000         0.000000\n",
       "50%        1.000000         0.000000\n",
       "75%        1.000000         1.000000\n",
       "max        1.000000         1.000000"
      ]
     },
     "execution_count": 3,
     "metadata": {},
     "output_type": "execute_result"
    }
   ],
   "source": [
    "train[['activation', 'ind_recommended']].describe()\n"
   ]
  },
  {
   "cell_type": "code",
   "execution_count": null,
   "metadata": {},
   "outputs": [
    {
     "data": {
      "text/html": [
       "<div>\n",
       "<style scoped>\n",
       "    .dataframe tbody tr th:only-of-type {\n",
       "        vertical-align: middle;\n",
       "    }\n",
       "\n",
       "    .dataframe tbody tr th {\n",
       "        vertical-align: top;\n",
       "    }\n",
       "\n",
       "    .dataframe thead th {\n",
       "        text-align: right;\n",
       "    }\n",
       "</style>\n",
       "<table border=\"1\" class=\"dataframe\">\n",
       "  <thead>\n",
       "    <tr style=\"text-align: right;\">\n",
       "      <th></th>\n",
       "      <th>activation</th>\n",
       "      <th>ind_recommended</th>\n",
       "    </tr>\n",
       "  </thead>\n",
       "  <tbody>\n",
       "    <tr>\n",
       "      <th>count</th>\n",
       "      <td>8834.000000</td>\n",
       "      <td>8834.000000</td>\n",
       "    </tr>\n",
       "    <tr>\n",
       "      <th>mean</th>\n",
       "      <td>0.497396</td>\n",
       "      <td>0.499660</td>\n",
       "    </tr>\n",
       "    <tr>\n",
       "      <th>std</th>\n",
       "      <td>0.500022</td>\n",
       "      <td>0.500028</td>\n",
       "    </tr>\n",
       "    <tr>\n",
       "      <th>min</th>\n",
       "      <td>0.000000</td>\n",
       "      <td>0.000000</td>\n",
       "    </tr>\n",
       "    <tr>\n",
       "      <th>25%</th>\n",
       "      <td>0.000000</td>\n",
       "      <td>0.000000</td>\n",
       "    </tr>\n",
       "    <tr>\n",
       "      <th>50%</th>\n",
       "      <td>0.000000</td>\n",
       "      <td>0.000000</td>\n",
       "    </tr>\n",
       "    <tr>\n",
       "      <th>75%</th>\n",
       "      <td>1.000000</td>\n",
       "      <td>1.000000</td>\n",
       "    </tr>\n",
       "    <tr>\n",
       "      <th>max</th>\n",
       "      <td>1.000000</td>\n",
       "      <td>1.000000</td>\n",
       "    </tr>\n",
       "  </tbody>\n",
       "</table>\n",
       "</div>"
      ],
      "text/plain": [
       "        activation  ind_recommended\n",
       "count  8834.000000      8834.000000\n",
       "mean      0.497396         0.499660\n",
       "std       0.500022         0.500028\n",
       "min       0.000000         0.000000\n",
       "25%       0.000000         0.000000\n",
       "50%       0.000000         0.000000\n",
       "75%       1.000000         1.000000\n",
       "max       1.000000         1.000000"
      ]
     },
     "execution_count": 4,
     "metadata": {},
     "output_type": "execute_result"
    }
   ],
   "source": [
    "\n",
    "test[['activation', 'ind_recommended']].describe()\n"
   ]
  },
  {
   "cell_type": "code",
   "execution_count": null,
   "metadata": {},
   "outputs": [],
   "source": [
    "\n",
    "target_col = target_cols[0]\n",
    "\n",
    "data_config = DataConfig(\n",
    "    target=[target_col],\n",
    "    # target should always be a list. Multi-targets are only supported for regression. Multi-Task Classification is not implemented\n",
    "    continuous_cols=num_col_names,\n",
    "    categorical_cols=cat_col_names,\n",
    "    num_workers=0,\n",
    ")\n",
    "trainer_config = TrainerConfig(\n",
    "    auto_lr_find=True,  # Runs the LRFinder to automatically derive a learning rate\n",
    "    batch_size=1024,\n",
    "    max_epochs=25,\n",
    "    early_stopping=None,\n",
    "    # early_stopping=\"valid_loss\",  # Monitor valid_loss for early stopping\n",
    "    # early_stopping_mode=\"min\",  # Set the mode as min because for val_loss, lower is better\n",
    "    # early_stopping_patience=5,  # No. of epochs of degradation training will wait before terminating\n",
    "    checkpoints=\"valid_loss\",  # Save best checkpoint monitoring val_loss\n",
    "    checkpoints_path=\"checkpoints\",  # Save the checkpoint in the experiment directory\n",
    "    # checkpoints_save_top_k=5,\n",
    "    # progress_bar=\"simple\",\n",
    "    load_best=True,  # After training, load the best checkpoint\n",
    "    # accelerator=DEVICE,\n",
    "    trainer_kwargs=dict(enable_model_summary=False),  # Turning off model summary\n",
    ")\n",
    "optimizer_config = OptimizerConfig()\n",
    "\n",
    "head_config = LinearHeadConfig(\n",
    "    layers=\"\",  # No additional layer in head, just a mapping layer to output_dim\n",
    "    dropout=0.1,\n",
    "    initialization=\"kaiming\",\n",
    ").__dict__  # Convert to dict to pass to the model config (OmegaConf doesn't accept objects)\n",
    "\n"
   ]
  },
  {
   "cell_type": "code",
   "execution_count": null,
   "metadata": {},
   "outputs": [],
   "source": [
    "from pathlib import Path\n",
    "def save_sweep_results(sweep_df, save_dir, best_model):\n",
    "    if not Path(save_dir).exists:\n",
    "        Path.mkdir(save_dir,parents=True)\n",
    "    sweep_df.drop(columns=[\"params\", \"time_taken\", \"epochs\"])\n",
    "    sweep_df.to_excel(f\"{save_dir}/sweep_result.xlsx\", index=False)\n",
    "    best_model.save_model(f\"{save_dir}/best_model.ckpt\")\n",
    "\n",
    "\n",
    "def visualize_sweep_results(sweep_df):\n",
    "    sweep_df.drop(columns=[\"params\", \"time_taken\", \"epochs\"]).style.background_gradient(\n",
    "        subset=[\"test_accuracy\", \"test_f1_score\"], cmap=\"RdYlGn\"\n",
    "    ).background_gradient(subset=[\"time_taken_per_epoch\", \"test_loss\"], cmap=\"RdYlGn_r\")\n",
    "\n"
   ]
  },
  {
   "cell_type": "code",
   "execution_count": null,
   "metadata": {},
   "outputs": [
    {
     "data": {
      "application/vnd.jupyter.widget-view+json": {
       "model_id": "aedb5e7336d4436193378b2f969d5595",
       "version_major": 2,
       "version_minor": 0
      },
      "text/plain": [
       "Output()"
      ]
     },
     "metadata": {},
     "output_type": "display_data"
    },
    {
     "data": {
      "text/html": [
       "<pre style=\"white-space:pre;overflow-x:auto;line-height:normal;font-family:Menlo,'DejaVu Sans Mono',consolas,'Courier New',monospace\"><span style=\"color: #008080; text-decoration-color: #008080; font-weight: bold\">2024</span>-<span style=\"color: #008080; text-decoration-color: #008080; font-weight: bold\">03</span>-<span style=\"color: #008080; text-decoration-color: #008080; font-weight: bold\">07</span> <span style=\"color: #00ff00; text-decoration-color: #00ff00; font-weight: bold\">02:18:06</span>,<span style=\"color: #008080; text-decoration-color: #008080; font-weight: bold\">832</span> - <span style=\"font-weight: bold\">{</span>pytorch_tabular:<span style=\"color: #008080; text-decoration-color: #008080; font-weight: bold\">329</span><span style=\"font-weight: bold\">}</span> - INFO - Training CategoryEmbeddingModel                           \n",
       "</pre>\n"
      ],
      "text/plain": [
       "\u001b[1;36m2024\u001b[0m-\u001b[1;36m03\u001b[0m-\u001b[1;36m07\u001b[0m \u001b[1;92m02:18:06\u001b[0m,\u001b[1;36m832\u001b[0m - \u001b[1m{\u001b[0mpytorch_tabular:\u001b[1;36m329\u001b[0m\u001b[1m}\u001b[0m - INFO - Training CategoryEmbeddingModel                           \n"
      ]
     },
     "metadata": {},
     "output_type": "display_data"
    },
    {
     "data": {
      "application/vnd.jupyter.widget-view+json": {
       "model_id": "c8d3b38af4d94e5a8c337ac80ddace1e",
       "version_major": 2,
       "version_minor": 0
      },
      "text/plain": [
       "Finding best initial lr:   0%|          | 0/100 [00:00<?, ?it/s]"
      ]
     },
     "metadata": {},
     "output_type": "display_data"
    },
    {
     "data": {
      "text/html": [
       "<pre style=\"white-space:pre;overflow-x:auto;line-height:normal;font-family:Menlo,'DejaVu Sans Mono',consolas,'Courier New',monospace\"></pre>\n"
      ],
      "text/plain": []
     },
     "metadata": {},
     "output_type": "display_data"
    },
    {
     "data": {
      "text/html": [
       "<pre style=\"white-space:pre;overflow-x:auto;line-height:normal;font-family:Menlo,'DejaVu Sans Mono',consolas,'Courier New',monospace\">\n",
       "</pre>\n"
      ],
      "text/plain": [
       "\n"
      ]
     },
     "metadata": {},
     "output_type": "display_data"
    },
    {
     "ename": "AttributeError",
     "evalue": "'LearningRateFinder' object has no attribute 'optimal_lr'",
     "output_type": "error",
     "traceback": [
      "\u001b[0;31m---------------------------------------------------------------------------\u001b[0m",
      "\u001b[0;31mAttributeError\u001b[0m                            Traceback (most recent call last)",
      "File \u001b[0;32m<timed exec>:6\u001b[0m\n",
      "File \u001b[0;32m/opt/homebrew/Caskroom/miniforge/base/envs/AMEX/lib/python3.11/site-packages/pytorch_tabular/tabular_model_sweep.py:334\u001b[0m, in \u001b[0;36mmodel_sweep\u001b[0;34m(task, train, test, data_config, optimizer_config, trainer_config, model_list, metrics, metrics_params, metrics_prob_input, validation, experiment_config, common_model_args, rank_metric, return_best_model, seed, ignore_oom, progress_bar, verbose, suppress_lightning_logger)\u001b[0m\n\u001b[1;32m    332\u001b[0m     progress\u001b[38;5;241m.\u001b[39mupdate(task_p, description\u001b[38;5;241m=\u001b[39m\u001b[38;5;124mf\u001b[39m\u001b[38;5;124m\"\u001b[39m\u001b[38;5;124mTraining \u001b[39m\u001b[38;5;132;01m{\u001b[39;00mname\u001b[38;5;132;01m}\u001b[39;00m\u001b[38;5;124m\"\u001b[39m, advance\u001b[38;5;241m=\u001b[39m\u001b[38;5;241m1\u001b[39m)\n\u001b[1;32m    333\u001b[0m \u001b[38;5;28;01mwith\u001b[39;00m OutOfMemoryHandler(handle_oom\u001b[38;5;241m=\u001b[39m\u001b[38;5;28;01mTrue\u001b[39;00m) \u001b[38;5;28;01mas\u001b[39;00m handler:\n\u001b[0;32m--> 334\u001b[0m     \u001b[43mtabular_model\u001b[49m\u001b[38;5;241;43m.\u001b[39;49m\u001b[43mtrain\u001b[49m\u001b[43m(\u001b[49m\u001b[43mmodel\u001b[49m\u001b[43m,\u001b[49m\u001b[43m \u001b[49m\u001b[43mdatamodule\u001b[49m\u001b[43m,\u001b[49m\u001b[43m \u001b[49m\u001b[43mhandle_oom\u001b[49m\u001b[38;5;241;43m=\u001b[39;49m\u001b[38;5;28;43;01mFalse\u001b[39;49;00m\u001b[43m)\u001b[49m\n\u001b[1;32m    335\u001b[0m res_dict \u001b[38;5;241m=\u001b[39m {\n\u001b[1;32m    336\u001b[0m     \u001b[38;5;124m\"\u001b[39m\u001b[38;5;124mmodel\u001b[39m\u001b[38;5;124m\"\u001b[39m: name,\n\u001b[1;32m    337\u001b[0m     \u001b[38;5;124m\"\u001b[39m\u001b[38;5;124m# Params\u001b[39m\u001b[38;5;124m\"\u001b[39m: int_to_human_readable(tabular_model\u001b[38;5;241m.\u001b[39mnum_params),\n\u001b[1;32m    338\u001b[0m }\n\u001b[1;32m    339\u001b[0m \u001b[38;5;28;01mif\u001b[39;00m handler\u001b[38;5;241m.\u001b[39moom_triggered:\n",
      "File \u001b[0;32m/opt/homebrew/Caskroom/miniforge/base/envs/AMEX/lib/python3.11/site-packages/pytorch_tabular/tabular_model.py:632\u001b[0m, in \u001b[0;36mTabularModel.train\u001b[0;34m(self, model, datamodule, callbacks, max_epochs, min_epochs, handle_oom)\u001b[0m\n\u001b[1;32m    630\u001b[0m     logger\u001b[38;5;241m.\u001b[39minfo(\u001b[38;5;124m\"\u001b[39m\u001b[38;5;124mAuto LR Find Started\u001b[39m\u001b[38;5;124m\"\u001b[39m)\n\u001b[1;32m    631\u001b[0m \u001b[38;5;28;01mwith\u001b[39;00m OutOfMemoryHandler(handle_oom\u001b[38;5;241m=\u001b[39mhandle_oom) \u001b[38;5;28;01mas\u001b[39;00m oom_handler:\n\u001b[0;32m--> 632\u001b[0m     result \u001b[38;5;241m=\u001b[39m \u001b[43mTuner\u001b[49m\u001b[43m(\u001b[49m\u001b[38;5;28;43mself\u001b[39;49m\u001b[38;5;241;43m.\u001b[39;49m\u001b[43mtrainer\u001b[49m\u001b[43m)\u001b[49m\u001b[38;5;241;43m.\u001b[39;49m\u001b[43mlr_find\u001b[49m\u001b[43m(\u001b[49m\n\u001b[1;32m    633\u001b[0m \u001b[43m        \u001b[49m\u001b[38;5;28;43mself\u001b[39;49m\u001b[38;5;241;43m.\u001b[39;49m\u001b[43mmodel\u001b[49m\u001b[43m,\u001b[49m\n\u001b[1;32m    634\u001b[0m \u001b[43m        \u001b[49m\u001b[43mtrain_dataloaders\u001b[49m\u001b[38;5;241;43m=\u001b[39;49m\u001b[43mtrain_loader\u001b[49m\u001b[43m,\u001b[49m\n\u001b[1;32m    635\u001b[0m \u001b[43m        \u001b[49m\u001b[43mval_dataloaders\u001b[49m\u001b[38;5;241;43m=\u001b[39;49m\u001b[43mval_loader\u001b[49m\u001b[43m,\u001b[49m\n\u001b[1;32m    636\u001b[0m \u001b[43m    \u001b[49m\u001b[43m)\u001b[49m\n\u001b[1;32m    637\u001b[0m \u001b[38;5;28;01mif\u001b[39;00m oom_handler\u001b[38;5;241m.\u001b[39moom_triggered:\n\u001b[1;32m    638\u001b[0m     \u001b[38;5;28;01mraise\u001b[39;00m OOMException(\n\u001b[1;32m    639\u001b[0m         \u001b[38;5;124m\"\u001b[39m\u001b[38;5;124mOOM detected during LR Find. Try reducing your batch_size or the\u001b[39m\u001b[38;5;124m\"\u001b[39m\n\u001b[1;32m    640\u001b[0m         \u001b[38;5;124m\"\u001b[39m\u001b[38;5;124m model parameters.\u001b[39m\u001b[38;5;124m\"\u001b[39m \u001b[38;5;241m+\u001b[39m \u001b[38;5;124m\"\u001b[39m\u001b[38;5;124m/n\u001b[39m\u001b[38;5;124m\"\u001b[39m \u001b[38;5;241m+\u001b[39m \u001b[38;5;124m\"\u001b[39m\u001b[38;5;124mOriginal Error: \u001b[39m\u001b[38;5;124m\"\u001b[39m \u001b[38;5;241m+\u001b[39m oom_handler\u001b[38;5;241m.\u001b[39moom_msg\n\u001b[1;32m    641\u001b[0m     )\n",
      "File \u001b[0;32m/opt/homebrew/Caskroom/miniforge/base/envs/AMEX/lib/python3.11/site-packages/pytorch_lightning/tuner/tuning.py:181\u001b[0m, in \u001b[0;36mTuner.lr_find\u001b[0;34m(self, model, train_dataloaders, val_dataloaders, dataloaders, datamodule, method, min_lr, max_lr, num_training, mode, early_stop_threshold, update_attr, attr_name)\u001b[0m\n\u001b[1;32m    177\u001b[0m \u001b[38;5;28mself\u001b[39m\u001b[38;5;241m.\u001b[39m_trainer\u001b[38;5;241m.\u001b[39mfit(model, train_dataloaders, val_dataloaders, datamodule)\n\u001b[1;32m    179\u001b[0m \u001b[38;5;28mself\u001b[39m\u001b[38;5;241m.\u001b[39m_trainer\u001b[38;5;241m.\u001b[39mcallbacks \u001b[38;5;241m=\u001b[39m [cb \u001b[38;5;28;01mfor\u001b[39;00m cb \u001b[38;5;129;01min\u001b[39;00m \u001b[38;5;28mself\u001b[39m\u001b[38;5;241m.\u001b[39m_trainer\u001b[38;5;241m.\u001b[39mcallbacks \u001b[38;5;28;01mif\u001b[39;00m cb \u001b[38;5;129;01mis\u001b[39;00m \u001b[38;5;129;01mnot\u001b[39;00m lr_finder_callback]\n\u001b[0;32m--> 181\u001b[0m \u001b[38;5;28;01mreturn\u001b[39;00m \u001b[43mlr_finder_callback\u001b[49m\u001b[38;5;241;43m.\u001b[39;49m\u001b[43moptimal_lr\u001b[49m\n",
      "\u001b[0;31mAttributeError\u001b[0m: 'LearningRateFinder' object has no attribute 'optimal_lr'"
     ]
    },
    {
     "name": "stderr",
     "output_type": "stream",
     "text": [
      "Traceback (most recent call last):\n",
      "  File \"<string>\", line 1, in <module>\n",
      "  File \"/opt/homebrew/Caskroom/miniforge/base/envs/AMEX/lib/python3.11/multiprocessing/spawn.py\", line 122, in spawn_main\n",
      "    exitcode = _main(fd, parent_sentinel)\n",
      "               ^^^^^^^^^^^^^^^^^^^^^^^^^^\n",
      "  File \"/opt/homebrew/Caskroom/miniforge/base/envs/AMEX/lib/python3.11/multiprocessing/spawn.py\", line 132, in _main\n",
      "    self = reduction.pickle.load(from_parent)\n",
      "           ^^^^^^^^^^^^^^^^^^^^^^^^^^^^^^^^^^\n",
      "_pickle.UnpicklingError: pickle data was truncated\n"
     ]
    }
   ],
   "source": [
    "%%time\n",
    "# Filtering out the warnings\n",
    "# t = time()\n",
    "\n",
    "with warnings.catch_warnings():\n",
    "    warnings.simplefilter(\"ignore\")\n",
    "    sweep_df, best_model = model_sweep(\n",
    "        task=\"classification\",  # One of \"classification\", \"regression\"\n",
    "        train=train,\n",
    "        test=test,\n",
    "        data_config=data_config,\n",
    "        optimizer_config=optimizer_config,\n",
    "        trainer_config=trainer_config,\n",
    "        model_list=\"lite\",\n",
    "        common_model_args=dict(head=\"LinearHead\", head_config=head_config),\n",
    "        metrics=[\"accuracy\", \"f1_score\"],\n",
    "        metrics_params=[{}, {\"average\": \"macro\"}],\n",
    "        metrics_prob_input=[False, True],\n",
    "        rank_metric=(\"accuracy\", \"higher_is_better\"),\n",
    "        progress_bar=True,\n",
    "        verbose=True,\n",
    "        suppress_lightning_logger=True,\n",
    "    )\n",
    "    \n",
    "\n"
   ]
  },
  {
   "cell_type": "code",
   "execution_count": null,
   "metadata": {},
   "outputs": [],
   "source": [
    "\n",
    "visualize_sweep_results(sweep_df)\n",
    "save_sweep_results(sweep_df, \"sweep_results\",best_model)\n"
   ]
  },
  {
   "cell_type": "code",
   "execution_count": null,
   "metadata": {},
   "outputs": [],
   "source": []
  }
 ],
 "metadata": {
  "kernelspec": {
   "display_name": "AMEX",
   "language": "python",
   "name": "python3"
  },
  "language_info": {
   "codemirror_mode": {
    "name": "ipython",
    "version": 3
   },
   "file_extension": ".py",
   "mimetype": "text/x-python",
   "name": "python",
   "nbconvert_exporter": "python",
   "pygments_lexer": "ipython3",
   "version": "3.11.8"
  }
 },
 "nbformat": 4,
 "nbformat_minor": 2
}
