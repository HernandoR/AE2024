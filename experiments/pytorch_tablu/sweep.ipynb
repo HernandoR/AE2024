{
 "cells": [
  {
   "cell_type": "code",
   "execution_count": 1,
   "metadata": {},
   "outputs": [],
   "source": [
    "\n",
    "import time\n",
    "import torch\n",
    "from sklearn.datasets import make_classification\n",
    "from sklearn.model_selection import train_test_split\n",
    "from sklearn.metrics import accuracy_score, f1_score\n",
    "import random\n",
    "from experiments.pytorch_tablu.utils import preprocess\n",
    "# import numpy as np\n",
    "import pandas as pd\n",
    "# import wandb\n",
    "from rich import print\n",
    "\n",
    "from typing import Callable\n",
    "from datetime import datetime\n",
    "\n",
    "from time import time\n",
    "from pytorch_tabular import model_sweep\n",
    "import warnings\n",
    "\n",
    "# from pytorch_tabular import TabularModel\n",
    "# from pytorch_tabular.models import CategoryEmbeddingModelConfig\n",
    "from pytorch_tabular.config import (\n",
    "    DataConfig,\n",
    "    OptimizerConfig,\n",
    "    TrainerConfig,\n",
    "    ExperimentConfig,\n",
    ")\n",
    "from pytorch_tabular.models.common.heads import LinearHeadConfig\n",
    "\n",
    "\n",
    "from pytorch_tabular.utils import (\n",
    "    make_mixed_dataset,\n",
    "    print_metrics,\n",
    "    load_covertype_dataset,\n",
    ")\n",
    "from pytorch_tabular.utils import get_balanced_sampler, get_class_weighted_cross_entropy\n",
    "\n",
    "# import os\n",
    "%load_ext autoreload\n",
    "%autoreload 2"
   ]
  },
  {
   "cell_type": "code",
   "execution_count": 2,
   "metadata": {},
   "outputs": [
    {
     "data": {
      "text/html": [
       "<pre style=\"white-space:pre;overflow-x:auto;line-height:normal;font-family:Menlo,'DejaVu Sans Mono',consolas,'Courier New',monospace\">mps\n",
       "</pre>\n"
      ],
      "text/plain": [
       "mps\n"
      ]
     },
     "metadata": {},
     "output_type": "display_data"
    },
    {
     "data": {
      "text/html": [
       "<pre style=\"white-space:pre;overflow-x:auto;line-height:normal;font-family:Menlo,'DejaVu Sans Mono',consolas,'Courier New',monospace\"><span style=\"font-weight: bold\">[</span><span style=\"color: #008000; text-decoration-color: #008000\">'ind_recommended'</span>, <span style=\"color: #008000; text-decoration-color: #008000\">'activation'</span><span style=\"font-weight: bold\">]</span>\n",
       "</pre>\n"
      ],
      "text/plain": [
       "\u001b[1m[\u001b[0m\u001b[32m'ind_recommended'\u001b[0m, \u001b[32m'activation'\u001b[0m\u001b[1m]\u001b[0m\n"
      ]
     },
     "metadata": {},
     "output_type": "display_data"
    },
    {
     "data": {
      "text/html": [
       "<pre style=\"white-space:pre;overflow-x:auto;line-height:normal;font-family:Menlo,'DejaVu Sans Mono',consolas,'Courier New',monospace\"><span style=\"color: #808000; text-decoration-color: #808000\">target_cols</span>=<span style=\"font-weight: bold\">[</span><span style=\"color: #008000; text-decoration-color: #008000\">'ind_recommended'</span>, <span style=\"color: #008000; text-decoration-color: #008000\">'activation'</span><span style=\"font-weight: bold\">]</span>, <span style=\"color: #808000; text-decoration-color: #808000\">cat_col_names</span>=<span style=\"font-weight: bold\">[</span><span style=\"color: #008000; text-decoration-color: #008000\">'merchant_profile_01'</span><span style=\"font-weight: bold\">]</span>, \n",
       "<span style=\"color: #808000; text-decoration-color: #808000\">num_col_names</span>=<span style=\"font-weight: bold\">[</span><span style=\"color: #008000; text-decoration-color: #008000\">'customer_spend_06'</span>, <span style=\"color: #008000; text-decoration-color: #008000\">'customer_spend_07'</span>, <span style=\"color: #008000; text-decoration-color: #008000\">'customer_profile_01'</span>, <span style=\"color: #008000; text-decoration-color: #008000\">'customer_profile_02'</span>, \n",
       "<span style=\"color: #008000; text-decoration-color: #008000\">'customer_profile_03'</span>, <span style=\"color: #008000; text-decoration-color: #008000\">'customer_digital_activity_02'</span>, <span style=\"color: #008000; text-decoration-color: #008000\">'customer_profile_04'</span>, <span style=\"color: #008000; text-decoration-color: #008000\">'distance_05'</span><span style=\"font-weight: bold\">]</span>\n",
       "</pre>\n"
      ],
      "text/plain": [
       "\u001b[33mtarget_cols\u001b[0m=\u001b[1m[\u001b[0m\u001b[32m'ind_recommended'\u001b[0m, \u001b[32m'activation'\u001b[0m\u001b[1m]\u001b[0m, \u001b[33mcat_col_names\u001b[0m=\u001b[1m[\u001b[0m\u001b[32m'merchant_profile_01'\u001b[0m\u001b[1m]\u001b[0m, \n",
       "\u001b[33mnum_col_names\u001b[0m=\u001b[1m[\u001b[0m\u001b[32m'customer_spend_06'\u001b[0m, \u001b[32m'customer_spend_07'\u001b[0m, \u001b[32m'customer_profile_01'\u001b[0m, \u001b[32m'customer_profile_02'\u001b[0m, \n",
       "\u001b[32m'customer_profile_03'\u001b[0m, \u001b[32m'customer_digital_activity_02'\u001b[0m, \u001b[32m'customer_profile_04'\u001b[0m, \u001b[32m'distance_05'\u001b[0m\u001b[1m]\u001b[0m\n"
      ]
     },
     "metadata": {},
     "output_type": "display_data"
    },
    {
     "data": {
      "text/html": [
       "<pre style=\"white-space:pre;overflow-x:auto;line-height:normal;font-family:Menlo,'DejaVu Sans Mono',consolas,'Courier New',monospace\">train.<span style=\"color: #808000; text-decoration-color: #808000\">shape</span>=<span style=\"font-weight: bold\">(</span><span style=\"color: #008080; text-decoration-color: #008080; font-weight: bold\">29529</span>, <span style=\"color: #008080; text-decoration-color: #008080; font-weight: bold\">11</span><span style=\"font-weight: bold\">)</span>, test.<span style=\"color: #808000; text-decoration-color: #808000\">shape</span>=<span style=\"font-weight: bold\">(</span><span style=\"color: #008080; text-decoration-color: #008080; font-weight: bold\">9843</span>, <span style=\"color: #008080; text-decoration-color: #008080; font-weight: bold\">11</span><span style=\"font-weight: bold\">)</span>\n",
       "</pre>\n"
      ],
      "text/plain": [
       "train.\u001b[33mshape\u001b[0m=\u001b[1m(\u001b[0m\u001b[1;36m29529\u001b[0m, \u001b[1;36m11\u001b[0m\u001b[1m)\u001b[0m, test.\u001b[33mshape\u001b[0m=\u001b[1m(\u001b[0m\u001b[1;36m9843\u001b[0m, \u001b[1;36m11\u001b[0m\u001b[1m)\u001b[0m\n"
      ]
     },
     "metadata": {},
     "output_type": "display_data"
    }
   ],
   "source": [
    "\n",
    "Feature_Explain = pd.read_excel(\"data/Amex_ori/Amex Campus.xlsx\")\n",
    "Feature_target_cols = Feature_Explain[\"Feature Name\"][\n",
    "    Feature_Explain[\"Extended description\"] == \"Target\"\n",
    "].to_list()\n",
    "Feature_cat_col_names = Feature_Explain[\"Feature Name\"][\n",
    "    Feature_Explain[\"Feature Type\"] == \"categorical\"\n",
    "].to_list()\n",
    "Feature_num_col_names = Feature_Explain[\"Feature Name\"][\n",
    "    Feature_Explain[\"Variable Type\"] == \"numeric\"\n",
    "].to_list()\n",
    "\n",
    "DEVICE = (\n",
    "    \"mps\"\n",
    "    if torch.backends.mps.is_available()\n",
    "    else (\"gpu\" if torch.cuda.is_available() else \"cpu\")\n",
    ")\n",
    "print(DEVICE)\n",
    "\n",
    "# %%\n",
    "data = pd.read_parquet(\"data/Amex_ori/Amex Campus Challenge Train 3.parquet\")\n",
    "\n",
    "data=preprocess(data)\n",
    "\n",
    "cols = data.columns.to_list()\n",
    "target_cols = [col for col in cols if col in Feature_target_cols]\n",
    "if len(target_cols) == 0:\n",
    "    print(\"No target column found\")\n",
    "    exit()\n",
    "# elif len(target_cols) > 1:\n",
    "#     target_col=target_cols[1]\n",
    "cat_col_names = [col for col in cols if col in Feature_cat_col_names]\n",
    "num_col_names = [col for col in cols if col in Feature_num_col_names]\n",
    "\n",
    "print(f\"{target_cols}\")\n",
    "# target_col=cols.unite(Feature_target_cols)\n",
    "\n",
    "# target_col = 'activation'\n",
    "\n",
    "# %%\n",
    "\n",
    "needed_cols = cat_col_names + num_col_names + target_cols\n",
    "data = data[needed_cols]\n",
    "\n",
    "data.head()\n",
    "print(\n",
    "    f\"target_cols={target_cols}, cat_col_names={cat_col_names}, num_col_names={num_col_names}\"\n",
    ")\n",
    "\n",
    "# %%\n",
    "# Data: DF, cat_col_names, num_col_names\n",
    "\n",
    "# 1. activate(0.57%) X recom(12.7%) -> 0~3\n",
    "\n",
    "# _,data=train_test_split(data,test_size=0.05)\n",
    "\n",
    "\n",
    "\n",
    "train, test = train_test_split(data)\n",
    "# train, val = train_test_split(train,test_size=0.2)\n",
    "\n",
    "print(f\"train.shape={train.shape}, test.shape={test.shape}\")\n"
   ]
  },
  {
   "cell_type": "code",
   "execution_count": 21,
   "metadata": {},
   "outputs": [
    {
     "data": {
      "text/html": [
       "<div>\n",
       "<style scoped>\n",
       "    .dataframe tbody tr th:only-of-type {\n",
       "        vertical-align: middle;\n",
       "    }\n",
       "\n",
       "    .dataframe tbody tr th {\n",
       "        vertical-align: top;\n",
       "    }\n",
       "\n",
       "    .dataframe thead th {\n",
       "        text-align: right;\n",
       "    }\n",
       "</style>\n",
       "<table border=\"1\" class=\"dataframe\">\n",
       "  <thead>\n",
       "    <tr style=\"text-align: right;\">\n",
       "      <th></th>\n",
       "      <th>activation</th>\n",
       "      <th>ind_recommended</th>\n",
       "    </tr>\n",
       "  </thead>\n",
       "  <tbody>\n",
       "    <tr>\n",
       "      <th>count</th>\n",
       "      <td>29529.000000</td>\n",
       "      <td>29529.000000</td>\n",
       "    </tr>\n",
       "    <tr>\n",
       "      <th>mean</th>\n",
       "      <td>0.499001</td>\n",
       "      <td>0.497951</td>\n",
       "    </tr>\n",
       "    <tr>\n",
       "      <th>std</th>\n",
       "      <td>0.500007</td>\n",
       "      <td>0.500004</td>\n",
       "    </tr>\n",
       "    <tr>\n",
       "      <th>min</th>\n",
       "      <td>0.000000</td>\n",
       "      <td>0.000000</td>\n",
       "    </tr>\n",
       "    <tr>\n",
       "      <th>25%</th>\n",
       "      <td>0.000000</td>\n",
       "      <td>0.000000</td>\n",
       "    </tr>\n",
       "    <tr>\n",
       "      <th>50%</th>\n",
       "      <td>0.000000</td>\n",
       "      <td>0.000000</td>\n",
       "    </tr>\n",
       "    <tr>\n",
       "      <th>75%</th>\n",
       "      <td>1.000000</td>\n",
       "      <td>1.000000</td>\n",
       "    </tr>\n",
       "    <tr>\n",
       "      <th>max</th>\n",
       "      <td>1.000000</td>\n",
       "      <td>1.000000</td>\n",
       "    </tr>\n",
       "  </tbody>\n",
       "</table>\n",
       "</div>"
      ],
      "text/plain": [
       "         activation  ind_recommended\n",
       "count  29529.000000     29529.000000\n",
       "mean       0.499001         0.497951\n",
       "std        0.500007         0.500004\n",
       "min        0.000000         0.000000\n",
       "25%        0.000000         0.000000\n",
       "50%        0.000000         0.000000\n",
       "75%        1.000000         1.000000\n",
       "max        1.000000         1.000000"
      ]
     },
     "execution_count": 21,
     "metadata": {},
     "output_type": "execute_result"
    }
   ],
   "source": [
    "train[['activation', 'ind_recommended']].describe()\n"
   ]
  },
  {
   "cell_type": "code",
   "execution_count": 3,
   "metadata": {},
   "outputs": [
    {
     "data": {
      "text/html": [
       "<div>\n",
       "<style scoped>\n",
       "    .dataframe tbody tr th:only-of-type {\n",
       "        vertical-align: middle;\n",
       "    }\n",
       "\n",
       "    .dataframe tbody tr th {\n",
       "        vertical-align: top;\n",
       "    }\n",
       "\n",
       "    .dataframe thead th {\n",
       "        text-align: right;\n",
       "    }\n",
       "</style>\n",
       "<table border=\"1\" class=\"dataframe\">\n",
       "  <thead>\n",
       "    <tr style=\"text-align: right;\">\n",
       "      <th></th>\n",
       "      <th>activation</th>\n",
       "      <th>ind_recommended</th>\n",
       "    </tr>\n",
       "  </thead>\n",
       "  <tbody>\n",
       "    <tr>\n",
       "      <th>count</th>\n",
       "      <td>9843.000000</td>\n",
       "      <td>9843.000000</td>\n",
       "    </tr>\n",
       "    <tr>\n",
       "      <th>mean</th>\n",
       "      <td>0.493955</td>\n",
       "      <td>0.504826</td>\n",
       "    </tr>\n",
       "    <tr>\n",
       "      <th>std</th>\n",
       "      <td>0.499989</td>\n",
       "      <td>0.500002</td>\n",
       "    </tr>\n",
       "    <tr>\n",
       "      <th>min</th>\n",
       "      <td>0.000000</td>\n",
       "      <td>0.000000</td>\n",
       "    </tr>\n",
       "    <tr>\n",
       "      <th>25%</th>\n",
       "      <td>0.000000</td>\n",
       "      <td>0.000000</td>\n",
       "    </tr>\n",
       "    <tr>\n",
       "      <th>50%</th>\n",
       "      <td>0.000000</td>\n",
       "      <td>1.000000</td>\n",
       "    </tr>\n",
       "    <tr>\n",
       "      <th>75%</th>\n",
       "      <td>1.000000</td>\n",
       "      <td>1.000000</td>\n",
       "    </tr>\n",
       "    <tr>\n",
       "      <th>max</th>\n",
       "      <td>1.000000</td>\n",
       "      <td>1.000000</td>\n",
       "    </tr>\n",
       "  </tbody>\n",
       "</table>\n",
       "</div>"
      ],
      "text/plain": [
       "        activation  ind_recommended\n",
       "count  9843.000000      9843.000000\n",
       "mean      0.493955         0.504826\n",
       "std       0.499989         0.500002\n",
       "min       0.000000         0.000000\n",
       "25%       0.000000         0.000000\n",
       "50%       0.000000         1.000000\n",
       "75%       1.000000         1.000000\n",
       "max       1.000000         1.000000"
      ]
     },
     "execution_count": 3,
     "metadata": {},
     "output_type": "execute_result"
    }
   ],
   "source": [
    "\n",
    "test[['activation', 'ind_recommended']].describe()\n"
   ]
  },
  {
   "cell_type": "code",
   "execution_count": 12,
   "metadata": {},
   "outputs": [],
   "source": [
    "\n",
    "target_col = target_cols[0]\n",
    "\n",
    "data_config = DataConfig(\n",
    "    target=[target_col],\n",
    "    # target should always be a list. Multi-targets are only supported for regression. Multi-Task Classification is not implemented\n",
    "    continuous_cols=num_col_names,\n",
    "    categorical_cols=cat_col_names,\n",
    "    num_workers=0,\n",
    ")\n",
    "trainer_config = TrainerConfig(\n",
    "    auto_lr_find=True,  # Runs the LRFinder to automatically derive a learning rate\n",
    "    batch_size=1024,\n",
    "    max_epochs=25,\n",
    "    early_stopping=None,\n",
    "    # early_stopping=\"valid_loss\",  # Monitor valid_loss for early stopping\n",
    "    # early_stopping_mode=\"min\",  # Set the mode as min because for val_loss, lower is better\n",
    "    # early_stopping_patience=5,  # No. of epochs of degradation training will wait before terminating\n",
    "    checkpoints=\"valid_loss\",  # Save best checkpoint monitoring val_loss\n",
    "    checkpoints_path=\"checkpoints\",  # Save the checkpoint in the experiment directory\n",
    "    # checkpoints_save_top_k=5,\n",
    "    # progress_bar=\"simple\",\n",
    "    load_best=True,  # After training, load the best checkpoint\n",
    "    # accelerator=DEVICE,\n",
    "    trainer_kwargs=dict(enable_model_summary=False),  # Turning off model summary\n",
    ")\n",
    "optimizer_config = OptimizerConfig()\n",
    "\n",
    "head_config = LinearHeadConfig(\n",
    "    layers=\"\",  # No additional layer in head, just a mapping layer to output_dim\n",
    "    dropout=0.1,\n",
    "    initialization=\"kaiming\",\n",
    ").__dict__  # Convert to dict to pass to the model config (OmegaConf doesn't accept objects)\n",
    "\n"
   ]
  },
  {
   "cell_type": "code",
   "execution_count": 13,
   "metadata": {},
   "outputs": [],
   "source": [
    "from pathlib import Path\n",
    "def save_sweep_results(sweep_df, save_dir, best_model):\n",
    "    if not Path(save_dir).exists:\n",
    "        Path.mkdir(save_dir,parents=True)\n",
    "    sweep_df.drop(columns=[\"params\", \"time_taken\", \"epochs\"])\n",
    "    sweep_df.to_excel(f\"{save_dir}/sweep_result.xlsx\", index=False)\n",
    "    best_model.save_model(f\"{save_dir}/best_model.ckpt\")\n",
    "\n",
    "\n",
    "def visualize_sweep_results(sweep_df):\n",
    "    sweep_df.drop(columns=[\"params\", \"time_taken\", \"epochs\"]).style.background_gradient(\n",
    "        subset=[\"test_accuracy\", \"test_f1_score\"], cmap=\"RdYlGn\"\n",
    "    ).background_gradient(subset=[\"time_taken_per_epoch\", \"test_loss\"], cmap=\"RdYlGn_r\")\n",
    "\n"
   ]
  },
  {
   "cell_type": "code",
   "execution_count": 14,
   "metadata": {},
   "outputs": [
    {
     "data": {
      "application/vnd.jupyter.widget-view+json": {
       "model_id": "857fecc2521d46619b7159f3338c0e31",
       "version_major": 2,
       "version_minor": 0
      },
      "text/plain": [
       "Output()"
      ]
     },
     "metadata": {},
     "output_type": "display_data"
    },
    {
     "data": {
      "text/html": [
       "<pre style=\"white-space:pre;overflow-x:auto;line-height:normal;font-family:Menlo,'DejaVu Sans Mono',consolas,'Courier New',monospace\"><span style=\"color: #008080; text-decoration-color: #008080; font-weight: bold\">2024</span>-<span style=\"color: #008080; text-decoration-color: #008080; font-weight: bold\">03</span>-<span style=\"color: #008080; text-decoration-color: #008080; font-weight: bold\">07</span> <span style=\"color: #00ff00; text-decoration-color: #00ff00; font-weight: bold\">02:19:38</span>,<span style=\"color: #008080; text-decoration-color: #008080; font-weight: bold\">684</span> - <span style=\"font-weight: bold\">{</span>pytorch_tabular:<span style=\"color: #008080; text-decoration-color: #008080; font-weight: bold\">329</span><span style=\"font-weight: bold\">}</span> - INFO - Training CategoryEmbeddingModel                           \n",
       "</pre>\n"
      ],
      "text/plain": [
       "\u001b[1;36m2024\u001b[0m-\u001b[1;36m03\u001b[0m-\u001b[1;36m07\u001b[0m \u001b[1;92m02:19:38\u001b[0m,\u001b[1;36m684\u001b[0m - \u001b[1m{\u001b[0mpytorch_tabular:\u001b[1;36m329\u001b[0m\u001b[1m}\u001b[0m - INFO - Training CategoryEmbeddingModel                           \n"
      ]
     },
     "metadata": {},
     "output_type": "display_data"
    },
    {
     "data": {
      "application/vnd.jupyter.widget-view+json": {
       "model_id": "613ba105f14945dd84921cc9b2e9458a",
       "version_major": 2,
       "version_minor": 0
      },
      "text/plain": [
       "Finding best initial lr:   0%|          | 0/100 [00:00<?, ?it/s]"
      ]
     },
     "metadata": {},
     "output_type": "display_data"
    },
    {
     "data": {
      "text/html": [
       "<pre style=\"white-space:pre;overflow-x:auto;line-height:normal;font-family:Menlo,'DejaVu Sans Mono',consolas,'Courier New',monospace\"><span style=\"color: #008080; text-decoration-color: #008080; font-weight: bold\">2024</span>-<span style=\"color: #008080; text-decoration-color: #008080; font-weight: bold\">03</span>-<span style=\"color: #008080; text-decoration-color: #008080; font-weight: bold\">07</span> <span style=\"color: #00ff00; text-decoration-color: #00ff00; font-weight: bold\">02:19:53</span>,<span style=\"color: #008080; text-decoration-color: #008080; font-weight: bold\">598</span> - <span style=\"font-weight: bold\">{</span>pytorch_tabular:<span style=\"color: #008080; text-decoration-color: #008080; font-weight: bold\">368</span><span style=\"font-weight: bold\">}</span> - INFO - Finished Training CategoryEmbeddingModel                  \n",
       "</pre>\n"
      ],
      "text/plain": [
       "\u001b[1;36m2024\u001b[0m-\u001b[1;36m03\u001b[0m-\u001b[1;36m07\u001b[0m \u001b[1;92m02:19:53\u001b[0m,\u001b[1;36m598\u001b[0m - \u001b[1m{\u001b[0mpytorch_tabular:\u001b[1;36m368\u001b[0m\u001b[1m}\u001b[0m - INFO - Finished Training CategoryEmbeddingModel                  \n"
      ]
     },
     "metadata": {},
     "output_type": "display_data"
    },
    {
     "data": {
      "text/html": [
       "<pre style=\"white-space:pre;overflow-x:auto;line-height:normal;font-family:Menlo,'DejaVu Sans Mono',consolas,'Courier New',monospace\"><span style=\"color: #008080; text-decoration-color: #008080; font-weight: bold\">2024</span>-<span style=\"color: #008080; text-decoration-color: #008080; font-weight: bold\">03</span>-<span style=\"color: #008080; text-decoration-color: #008080; font-weight: bold\">07</span> <span style=\"color: #00ff00; text-decoration-color: #00ff00; font-weight: bold\">02:19:53</span>,<span style=\"color: #008080; text-decoration-color: #008080; font-weight: bold\">599</span> - <span style=\"font-weight: bold\">{</span>pytorch_tabular:<span style=\"color: #008080; text-decoration-color: #008080; font-weight: bold\">369</span><span style=\"font-weight: bold\">}</span> - INFO - Results: model: CategoryEmbeddingModel, # Params: <span style=\"color: #008080; text-decoration-color: #008080; font-weight: bold\">52</span> T,   \n",
       "epochs: <span style=\"color: #008080; text-decoration-color: #008080; font-weight: bold\">25</span>, test_loss: <span style=\"color: #008080; text-decoration-color: #008080; font-weight: bold\">0.5194239616394043</span>, test_accuracy: <span style=\"color: #008080; text-decoration-color: #008080; font-weight: bold\">0.7459814548492432</span>, test_f1_score: <span style=\"color: #008080; text-decoration-color: #008080; font-weight: bold\">0.7455250024795532</span>,   \n",
       "time_taken: <span style=\"color: #008080; text-decoration-color: #008080; font-weight: bold\">14.926333904266357</span>, time_taken_per_epoch: <span style=\"color: #008080; text-decoration-color: #008080; font-weight: bold\">0.5970533561706542</span>                                           \n",
       "</pre>\n"
      ],
      "text/plain": [
       "\u001b[1;36m2024\u001b[0m-\u001b[1;36m03\u001b[0m-\u001b[1;36m07\u001b[0m \u001b[1;92m02:19:53\u001b[0m,\u001b[1;36m599\u001b[0m - \u001b[1m{\u001b[0mpytorch_tabular:\u001b[1;36m369\u001b[0m\u001b[1m}\u001b[0m - INFO - Results: model: CategoryEmbeddingModel, # Params: \u001b[1;36m52\u001b[0m T,   \n",
       "epochs: \u001b[1;36m25\u001b[0m, test_loss: \u001b[1;36m0.5194239616394043\u001b[0m, test_accuracy: \u001b[1;36m0.7459814548492432\u001b[0m, test_f1_score: \u001b[1;36m0.7455250024795532\u001b[0m,   \n",
       "time_taken: \u001b[1;36m14.926333904266357\u001b[0m, time_taken_per_epoch: \u001b[1;36m0.5970533561706542\u001b[0m                                           \n"
      ]
     },
     "metadata": {},
     "output_type": "display_data"
    },
    {
     "data": {
      "text/html": [
       "<pre style=\"white-space:pre;overflow-x:auto;line-height:normal;font-family:Menlo,'DejaVu Sans Mono',consolas,'Courier New',monospace\"><span style=\"color: #008080; text-decoration-color: #008080; font-weight: bold\">2024</span>-<span style=\"color: #008080; text-decoration-color: #008080; font-weight: bold\">03</span>-<span style=\"color: #008080; text-decoration-color: #008080; font-weight: bold\">07</span> <span style=\"color: #00ff00; text-decoration-color: #00ff00; font-weight: bold\">02:19:53</span>,<span style=\"color: #008080; text-decoration-color: #008080; font-weight: bold\">617</span> - <span style=\"font-weight: bold\">{</span>pytorch_tabular:<span style=\"color: #008080; text-decoration-color: #008080; font-weight: bold\">329</span><span style=\"font-weight: bold\">}</span> - INFO - Training GANDALFModel                                     \n",
       "</pre>\n"
      ],
      "text/plain": [
       "\u001b[1;36m2024\u001b[0m-\u001b[1;36m03\u001b[0m-\u001b[1;36m07\u001b[0m \u001b[1;92m02:19:53\u001b[0m,\u001b[1;36m617\u001b[0m - \u001b[1m{\u001b[0mpytorch_tabular:\u001b[1;36m329\u001b[0m\u001b[1m}\u001b[0m - INFO - Training GANDALFModel                                     \n"
      ]
     },
     "metadata": {},
     "output_type": "display_data"
    },
    {
     "data": {
      "application/vnd.jupyter.widget-view+json": {
       "model_id": "29abc70a012447c1ad1b58a3122f14a7",
       "version_major": 2,
       "version_minor": 0
      },
      "text/plain": [
       "Finding best initial lr:   0%|          | 0/100 [00:00<?, ?it/s]"
      ]
     },
     "metadata": {},
     "output_type": "display_data"
    },
    {
     "data": {
      "text/html": [
       "<pre style=\"white-space:pre;overflow-x:auto;line-height:normal;font-family:Menlo,'DejaVu Sans Mono',consolas,'Courier New',monospace\"><span style=\"color: #008080; text-decoration-color: #008080; font-weight: bold\">2024</span>-<span style=\"color: #008080; text-decoration-color: #008080; font-weight: bold\">03</span>-<span style=\"color: #008080; text-decoration-color: #008080; font-weight: bold\">07</span> <span style=\"color: #00ff00; text-decoration-color: #00ff00; font-weight: bold\">02:20:24</span>,<span style=\"color: #008080; text-decoration-color: #008080; font-weight: bold\">330</span> - <span style=\"font-weight: bold\">{</span>pytorch_tabular:<span style=\"color: #008080; text-decoration-color: #008080; font-weight: bold\">368</span><span style=\"font-weight: bold\">}</span> - INFO - Finished Training GANDALFModel                            \n",
       "</pre>\n"
      ],
      "text/plain": [
       "\u001b[1;36m2024\u001b[0m-\u001b[1;36m03\u001b[0m-\u001b[1;36m07\u001b[0m \u001b[1;92m02:20:24\u001b[0m,\u001b[1;36m330\u001b[0m - \u001b[1m{\u001b[0mpytorch_tabular:\u001b[1;36m368\u001b[0m\u001b[1m}\u001b[0m - INFO - Finished Training GANDALFModel                            \n"
      ]
     },
     "metadata": {},
     "output_type": "display_data"
    },
    {
     "data": {
      "text/html": [
       "<pre style=\"white-space:pre;overflow-x:auto;line-height:normal;font-family:Menlo,'DejaVu Sans Mono',consolas,'Courier New',monospace\"><span style=\"color: #008080; text-decoration-color: #008080; font-weight: bold\">2024</span>-<span style=\"color: #008080; text-decoration-color: #008080; font-weight: bold\">03</span>-<span style=\"color: #008080; text-decoration-color: #008080; font-weight: bold\">07</span> <span style=\"color: #00ff00; text-decoration-color: #00ff00; font-weight: bold\">02:20:24</span>,<span style=\"color: #008080; text-decoration-color: #008080; font-weight: bold\">331</span> - <span style=\"font-weight: bold\">{</span>pytorch_tabular:<span style=\"color: #008080; text-decoration-color: #008080; font-weight: bold\">369</span><span style=\"font-weight: bold\">}</span> - INFO - Results: model: GANDALFModel, # Params: <span style=\"color: #008080; text-decoration-color: #008080; font-weight: bold\">51</span> T, epochs: <span style=\"color: #008080; text-decoration-color: #008080; font-weight: bold\">25</span>, \n",
       "test_loss: <span style=\"color: #008080; text-decoration-color: #008080; font-weight: bold\">0.5195618271827698</span>, test_accuracy: <span style=\"color: #008080; text-decoration-color: #008080; font-weight: bold\">0.745415449142456</span>, test_f1_score: <span style=\"color: #008080; text-decoration-color: #008080; font-weight: bold\">0.7452009916305542</span>, time_taken:    \n",
       "<span style=\"color: #008080; text-decoration-color: #008080; font-weight: bold\">30.72283411026001</span>, time_taken_per_epoch: <span style=\"color: #008080; text-decoration-color: #008080; font-weight: bold\">1.2289133644104004</span>                                                        \n",
       "</pre>\n"
      ],
      "text/plain": [
       "\u001b[1;36m2024\u001b[0m-\u001b[1;36m03\u001b[0m-\u001b[1;36m07\u001b[0m \u001b[1;92m02:20:24\u001b[0m,\u001b[1;36m331\u001b[0m - \u001b[1m{\u001b[0mpytorch_tabular:\u001b[1;36m369\u001b[0m\u001b[1m}\u001b[0m - INFO - Results: model: GANDALFModel, # Params: \u001b[1;36m51\u001b[0m T, epochs: \u001b[1;36m25\u001b[0m, \n",
       "test_loss: \u001b[1;36m0.5195618271827698\u001b[0m, test_accuracy: \u001b[1;36m0.745415449142456\u001b[0m, test_f1_score: \u001b[1;36m0.7452009916305542\u001b[0m, time_taken:    \n",
       "\u001b[1;36m30.72283411026001\u001b[0m, time_taken_per_epoch: \u001b[1;36m1.2289133644104004\u001b[0m                                                        \n"
      ]
     },
     "metadata": {},
     "output_type": "display_data"
    },
    {
     "data": {
      "text/html": [
       "<pre style=\"white-space:pre;overflow-x:auto;line-height:normal;font-family:Menlo,'DejaVu Sans Mono',consolas,'Courier New',monospace\"><span style=\"color: #008080; text-decoration-color: #008080; font-weight: bold\">2024</span>-<span style=\"color: #008080; text-decoration-color: #008080; font-weight: bold\">03</span>-<span style=\"color: #008080; text-decoration-color: #008080; font-weight: bold\">07</span> <span style=\"color: #00ff00; text-decoration-color: #00ff00; font-weight: bold\">02:20:24</span>,<span style=\"color: #008080; text-decoration-color: #008080; font-weight: bold\">342</span> - <span style=\"font-weight: bold\">{</span>pytorch_tabular:<span style=\"color: #008080; text-decoration-color: #008080; font-weight: bold\">329</span><span style=\"font-weight: bold\">}</span> - INFO - Training TabNetModel                                      \n",
       "</pre>\n"
      ],
      "text/plain": [
       "\u001b[1;36m2024\u001b[0m-\u001b[1;36m03\u001b[0m-\u001b[1;36m07\u001b[0m \u001b[1;92m02:20:24\u001b[0m,\u001b[1;36m342\u001b[0m - \u001b[1m{\u001b[0mpytorch_tabular:\u001b[1;36m329\u001b[0m\u001b[1m}\u001b[0m - INFO - Training TabNetModel                                      \n"
      ]
     },
     "metadata": {},
     "output_type": "display_data"
    },
    {
     "data": {
      "application/vnd.jupyter.widget-view+json": {
       "model_id": "abd2bdbf29824b369ae8478a3de2587c",
       "version_major": 2,
       "version_minor": 0
      },
      "text/plain": [
       "Finding best initial lr:   0%|          | 0/100 [00:00<?, ?it/s]"
      ]
     },
     "metadata": {},
     "output_type": "display_data"
    },
    {
     "data": {
      "text/html": [
       "<pre style=\"white-space:pre;overflow-x:auto;line-height:normal;font-family:Menlo,'DejaVu Sans Mono',consolas,'Courier New',monospace\"><span style=\"color: #008080; text-decoration-color: #008080; font-weight: bold\">2024</span>-<span style=\"color: #008080; text-decoration-color: #008080; font-weight: bold\">03</span>-<span style=\"color: #008080; text-decoration-color: #008080; font-weight: bold\">07</span> <span style=\"color: #00ff00; text-decoration-color: #00ff00; font-weight: bold\">02:21:36</span>,<span style=\"color: #008080; text-decoration-color: #008080; font-weight: bold\">759</span> - <span style=\"font-weight: bold\">{</span>pytorch_tabular:<span style=\"color: #008080; text-decoration-color: #008080; font-weight: bold\">368</span><span style=\"font-weight: bold\">}</span> - INFO - Finished Training TabNetModel                             \n",
       "</pre>\n"
      ],
      "text/plain": [
       "\u001b[1;36m2024\u001b[0m-\u001b[1;36m03\u001b[0m-\u001b[1;36m07\u001b[0m \u001b[1;92m02:21:36\u001b[0m,\u001b[1;36m759\u001b[0m - \u001b[1m{\u001b[0mpytorch_tabular:\u001b[1;36m368\u001b[0m\u001b[1m}\u001b[0m - INFO - Finished Training TabNetModel                             \n"
      ]
     },
     "metadata": {},
     "output_type": "display_data"
    },
    {
     "data": {
      "text/html": [
       "<pre style=\"white-space:pre;overflow-x:auto;line-height:normal;font-family:Menlo,'DejaVu Sans Mono',consolas,'Courier New',monospace\"><span style=\"color: #008080; text-decoration-color: #008080; font-weight: bold\">2024</span>-<span style=\"color: #008080; text-decoration-color: #008080; font-weight: bold\">03</span>-<span style=\"color: #008080; text-decoration-color: #008080; font-weight: bold\">07</span> <span style=\"color: #00ff00; text-decoration-color: #00ff00; font-weight: bold\">02:21:36</span>,<span style=\"color: #008080; text-decoration-color: #008080; font-weight: bold\">759</span> - <span style=\"font-weight: bold\">{</span>pytorch_tabular:<span style=\"color: #008080; text-decoration-color: #008080; font-weight: bold\">369</span><span style=\"font-weight: bold\">}</span> - INFO - Results: model: TabNetModel, # Params: <span style=\"color: #008080; text-decoration-color: #008080; font-weight: bold\">51</span> T, epochs: <span style=\"color: #008080; text-decoration-color: #008080; font-weight: bold\">25</span>,  \n",
       "test_loss: <span style=\"color: #008080; text-decoration-color: #008080; font-weight: bold\">0.5258825421333313</span>, test_accuracy: <span style=\"color: #008080; text-decoration-color: #008080; font-weight: bold\">0.7420194745063782</span>, test_f1_score: <span style=\"color: #008080; text-decoration-color: #008080; font-weight: bold\">0.7412970662117004</span>, time_taken:   \n",
       "<span style=\"color: #008080; text-decoration-color: #008080; font-weight: bold\">72.42718410491943</span>, time_taken_per_epoch: <span style=\"color: #008080; text-decoration-color: #008080; font-weight: bold\">2.897087364196777</span>                                                         \n",
       "</pre>\n"
      ],
      "text/plain": [
       "\u001b[1;36m2024\u001b[0m-\u001b[1;36m03\u001b[0m-\u001b[1;36m07\u001b[0m \u001b[1;92m02:21:36\u001b[0m,\u001b[1;36m759\u001b[0m - \u001b[1m{\u001b[0mpytorch_tabular:\u001b[1;36m369\u001b[0m\u001b[1m}\u001b[0m - INFO - Results: model: TabNetModel, # Params: \u001b[1;36m51\u001b[0m T, epochs: \u001b[1;36m25\u001b[0m,  \n",
       "test_loss: \u001b[1;36m0.5258825421333313\u001b[0m, test_accuracy: \u001b[1;36m0.7420194745063782\u001b[0m, test_f1_score: \u001b[1;36m0.7412970662117004\u001b[0m, time_taken:   \n",
       "\u001b[1;36m72.42718410491943\u001b[0m, time_taken_per_epoch: \u001b[1;36m2.897087364196777\u001b[0m                                                         \n"
      ]
     },
     "metadata": {},
     "output_type": "display_data"
    },
    {
     "data": {
      "text/html": [
       "<pre style=\"white-space:pre;overflow-x:auto;line-height:normal;font-family:Menlo,'DejaVu Sans Mono',consolas,'Courier New',monospace\"></pre>\n"
      ],
      "text/plain": []
     },
     "metadata": {},
     "output_type": "display_data"
    },
    {
     "data": {
      "text/html": [
       "<pre style=\"white-space:pre;overflow-x:auto;line-height:normal;font-family:Menlo,'DejaVu Sans Mono',consolas,'Courier New',monospace\">\n",
       "</pre>\n"
      ],
      "text/plain": [
       "\n"
      ]
     },
     "metadata": {},
     "output_type": "display_data"
    },
    {
     "data": {
      "text/html": [
       "<pre style=\"white-space:pre;overflow-x:auto;line-height:normal;font-family:Menlo,'DejaVu Sans Mono',consolas,'Courier New',monospace\"><span style=\"color: #008080; text-decoration-color: #008080; font-weight: bold\">2024</span>-<span style=\"color: #008080; text-decoration-color: #008080; font-weight: bold\">03</span>-<span style=\"color: #008080; text-decoration-color: #008080; font-weight: bold\">07</span> <span style=\"color: #00ff00; text-decoration-color: #00ff00; font-weight: bold\">02:21:36</span>,<span style=\"color: #008080; text-decoration-color: #008080; font-weight: bold\">761</span> - <span style=\"font-weight: bold\">{</span>pytorch_tabular:<span style=\"color: #008080; text-decoration-color: #008080; font-weight: bold\">387</span><span style=\"font-weight: bold\">}</span> - INFO - Model Sweep Finished                                      \n",
       "</pre>\n"
      ],
      "text/plain": [
       "\u001b[1;36m2024\u001b[0m-\u001b[1;36m03\u001b[0m-\u001b[1;36m07\u001b[0m \u001b[1;92m02:21:36\u001b[0m,\u001b[1;36m761\u001b[0m - \u001b[1m{\u001b[0mpytorch_tabular:\u001b[1;36m387\u001b[0m\u001b[1m}\u001b[0m - INFO - Model Sweep Finished                                      \n"
      ]
     },
     "metadata": {},
     "output_type": "display_data"
    },
    {
     "data": {
      "text/html": [
       "<pre style=\"white-space:pre;overflow-x:auto;line-height:normal;font-family:Menlo,'DejaVu Sans Mono',consolas,'Courier New',monospace\"><span style=\"color: #008080; text-decoration-color: #008080; font-weight: bold\">2024</span>-<span style=\"color: #008080; text-decoration-color: #008080; font-weight: bold\">03</span>-<span style=\"color: #008080; text-decoration-color: #008080; font-weight: bold\">07</span> <span style=\"color: #00ff00; text-decoration-color: #00ff00; font-weight: bold\">02:21:36</span>,<span style=\"color: #008080; text-decoration-color: #008080; font-weight: bold\">761</span> - <span style=\"font-weight: bold\">{</span>pytorch_tabular:<span style=\"color: #008080; text-decoration-color: #008080; font-weight: bold\">388</span><span style=\"font-weight: bold\">}</span> - INFO - Best Model: CategoryEmbeddingModel                        \n",
       "</pre>\n"
      ],
      "text/plain": [
       "\u001b[1;36m2024\u001b[0m-\u001b[1;36m03\u001b[0m-\u001b[1;36m07\u001b[0m \u001b[1;92m02:21:36\u001b[0m,\u001b[1;36m761\u001b[0m - \u001b[1m{\u001b[0mpytorch_tabular:\u001b[1;36m388\u001b[0m\u001b[1m}\u001b[0m - INFO - Best Model: CategoryEmbeddingModel                        \n"
      ]
     },
     "metadata": {},
     "output_type": "display_data"
    },
    {
     "name": "stdout",
     "output_type": "stream",
     "text": [
      "CPU times: user 1min 36s, sys: 7.75 s, total: 1min 43s\n",
      "Wall time: 1min 58s\n"
     ]
    }
   ],
   "source": [
    "%%time\n",
    "# Filtering out the warnings\n",
    "# t = time()\n",
    "\n",
    "with warnings.catch_warnings():\n",
    "    warnings.simplefilter(\"ignore\")\n",
    "    sweep_df, best_model = model_sweep(\n",
    "        task=\"classification\",  # One of \"classification\", \"regression\"\n",
    "        train=train,\n",
    "        test=test,\n",
    "        data_config=data_config,\n",
    "        optimizer_config=optimizer_config,\n",
    "        trainer_config=trainer_config,\n",
    "        model_list=\"lite\",\n",
    "        common_model_args=dict(head=\"LinearHead\", head_config=head_config),\n",
    "        metrics=[\"accuracy\", \"f1_score\"],\n",
    "        metrics_params=[{}, {\"average\": \"macro\"}],\n",
    "        metrics_prob_input=[False, True],\n",
    "        rank_metric=(\"accuracy\", \"higher_is_better\"),\n",
    "        progress_bar=True,\n",
    "        verbose=True,\n",
    "        suppress_lightning_logger=True,\n",
    "    )\n",
    "    \n",
    "\n"
   ]
  },
  {
   "cell_type": "code",
   "execution_count": 15,
   "metadata": {},
   "outputs": [
    {
     "data": {
      "text/html": [
       "<pre style=\"white-space:pre;overflow-x:auto;line-height:normal;font-family:Menlo,'DejaVu Sans Mono',consolas,'Courier New',monospace\"><span style=\"color: #008080; text-decoration-color: #008080; font-weight: bold\">2024</span>-<span style=\"color: #008080; text-decoration-color: #008080; font-weight: bold\">03</span>-<span style=\"color: #008080; text-decoration-color: #008080; font-weight: bold\">07</span> <span style=\"color: #00ff00; text-decoration-color: #00ff00; font-weight: bold\">02:21:36</span>,<span style=\"color: #008080; text-decoration-color: #008080; font-weight: bold\">862</span> - <span style=\"font-weight: bold\">{</span>pytorch_tabular.tabular_model:<span style=\"color: #008080; text-decoration-color: #008080; font-weight: bold\">1533</span><span style=\"font-weight: bold\">}</span> - WARNING - Directory is not empty. Overwriting the \n",
       "contents.                                                                                                          \n",
       "</pre>\n"
      ],
      "text/plain": [
       "\u001b[1;36m2024\u001b[0m-\u001b[1;36m03\u001b[0m-\u001b[1;36m07\u001b[0m \u001b[1;92m02:21:36\u001b[0m,\u001b[1;36m862\u001b[0m - \u001b[1m{\u001b[0mpytorch_tabular.tabular_model:\u001b[1;36m1533\u001b[0m\u001b[1m}\u001b[0m - WARNING - Directory is not empty. Overwriting the \n",
       "contents.                                                                                                          \n"
      ]
     },
     "metadata": {},
     "output_type": "display_data"
    }
   ],
   "source": [
    "\n",
    "visualize_sweep_results(sweep_df)\n",
    "save_sweep_results(sweep_df, \"sweep_results\",best_model)\n"
   ]
  },
  {
   "cell_type": "code",
   "execution_count": null,
   "metadata": {},
   "outputs": [],
   "source": []
  }
 ],
 "metadata": {
  "kernelspec": {
   "display_name": "AMEX",
   "language": "python",
   "name": "python3"
  },
  "language_info": {
   "codemirror_mode": {
    "name": "ipython",
    "version": 3
   },
   "file_extension": ".py",
   "mimetype": "text/x-python",
   "name": "python",
   "nbconvert_exporter": "python",
   "pygments_lexer": "ipython3",
   "version": "3.11.8"
  }
 },
 "nbformat": 4,
 "nbformat_minor": 2
}
